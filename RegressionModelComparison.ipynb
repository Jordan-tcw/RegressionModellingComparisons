{
  "nbformat": 4,
  "nbformat_minor": 0,
  "metadata": {
    "colab": {
      "name": "Jordan_Wilkes_Seat_sales_Model_Comparison.ipynb",
      "provenance": [],
      "collapsed_sections": [
        "aiRtyIp8WU7b",
        "Un5LLC_Taxu7",
        "W8HNCc8QbRia",
        "jSVlvzNebl_C",
        "eI6g1ovoa39t",
        "Ii7dTf0cGMSL",
        "UXmLDVymGpFz",
        "9AOyIlaPKQEX"
      ]
    },
    "kernelspec": {
      "name": "python3",
      "display_name": "Python 3"
    },
    "language_info": {
      "name": "python"
    }
  },
  "cells": [
    {
      "cell_type": "markdown",
      "metadata": {
        "id": "aiRtyIp8WU7b"
      },
      "source": [
        "#In this notebook I will compare 7 Machine learning techniques:\n",
        "\n",
        "1. Linear regression\n",
        "2. Forward and backward selection\n",
        "3. Ridge\n",
        "4. Lasso\n",
        "5. Elastic net\n",
        "6. PCR\n",
        "7. PLS\n"
      ]
    },
    {
      "cell_type": "code",
      "metadata": {
        "id": "3vEFd5qhWSNw",
        "colab": {
          "base_uri": "https://localhost:8080/"
        },
        "outputId": "fe72267e-d93d-4cdd-edf5-b97d57447fb8"
      },
      "source": [
        "#import neccessary packages \n",
        "import pandas as pd #importing data\n",
        "import pandas.testing as tm\n",
        "import numpy as np\n",
        "import itertools\n",
        "import time\n",
        "import statsmodels.api as sm\n",
        "import matplotlib.pyplot as plt #Import matplotlib for plotting graphs\n",
        "%matplotlib inline\n",
        "\n",
        "#Linear regression packages\n",
        "from sklearn import linear_model #import linear_model regression\n",
        "from sklearn.metrics import r2_score,mean_squared_error #import r2_score and MSE\n",
        "\n",
        "#extra packages needed for Ridge & Lasso regression \n",
        "from sklearn.preprocessing import scale \n",
        "from sklearn.model_selection import train_test_split\n",
        "from sklearn.linear_model import Ridge, RidgeCV, Lasso, LassoCV\n",
        "\n",
        "#Extra packages for Elastic Net \n",
        "from numpy import mean\n",
        "from numpy import std\n",
        "from numpy import arange\n",
        "from numpy import absolute\n",
        "from pandas import read_csv\n",
        "from sklearn.model_selection import GridSearchCV\n",
        "from sklearn.model_selection import cross_val_score\n",
        "from sklearn.model_selection import RepeatedKFold\n",
        "from sklearn.linear_model import ElasticNet\n",
        "from sklearn.linear_model import ElasticNetCV\n",
        "\n",
        "#Extra Packages for PCR \n",
        "from sklearn import model_selection\n",
        "from sklearn.model_selection import KFold\n",
        "from sklearn.model_selection import cross_validate\n",
        "from sklearn.decomposition import PCA\n",
        "from sklearn.linear_model import LinearRegression\n",
        "from sklearn.cross_decomposition import PLSRegression, PLSSVD\n",
        "\n"
      ],
      "execution_count": 1,
      "outputs": [
        {
          "output_type": "stream",
          "name": "stderr",
          "text": [
            "/usr/local/lib/python3.7/dist-packages/statsmodels/tools/_testing.py:19: FutureWarning: pandas.util.testing is deprecated. Use the functions in the public API at pandas.testing instead.\n",
            "  import pandas.util.testing as tm\n"
          ]
        }
      ]
    },
    {
      "cell_type": "markdown",
      "metadata": {
        "id": "hFYlyd-JWdYC"
      },
      "source": [
        "We will be trying to predict the sales of carseats.  In this data set, a single observation represents a location where carseats are sold.  In particular the training data set consists of the following variables:\n",
        "* Sales - Unit sales (in thousands) at each location\n",
        "* CompPrice - Price charged by competitor at each location\n",
        "* Income - Community income level (in thousands of dollars)\n",
        "* Advertising - Local advertising budget for company at each location (in    thousands of dollars)\n",
        "* Population - Population size in region (in thousands)\n",
        "* Price - Price company charges for car seats at each site\n",
        "* ShelveLoc - A factor with levels Bad, Good and Medium indicating the quality of the shelving location for the car seats at each site\n",
        "* Age - Average age of the local population\n",
        "* Education - Education level at each location\n",
        "* Urban - A factor with levels No and Yes to indicate whether the store is in an urban or rural location\n",
        "* US - A factor with levels No and Yes to indicate whether the store is in the US or not\n"
      ]
    },
    {
      "cell_type": "code",
      "metadata": {
        "colab": {
          "base_uri": "https://localhost:8080/",
          "height": 424
        },
        "id": "bE6xoqzSWZLe",
        "outputId": "4b92c664-15d9-4b5a-842f-d766aacb1611"
      },
      "source": [
        "#Retrieving data\n",
        "url = \"https://raw.githubusercontent.com/selva86/datasets/master/Carseats.csv\"\n",
        "data = pd.read_csv(url)\n",
        "data"
      ],
      "execution_count": 2,
      "outputs": [
        {
          "output_type": "execute_result",
          "data": {
            "text/html": [
              "<div>\n",
              "<style scoped>\n",
              "    .dataframe tbody tr th:only-of-type {\n",
              "        vertical-align: middle;\n",
              "    }\n",
              "\n",
              "    .dataframe tbody tr th {\n",
              "        vertical-align: top;\n",
              "    }\n",
              "\n",
              "    .dataframe thead th {\n",
              "        text-align: right;\n",
              "    }\n",
              "</style>\n",
              "<table border=\"1\" class=\"dataframe\">\n",
              "  <thead>\n",
              "    <tr style=\"text-align: right;\">\n",
              "      <th></th>\n",
              "      <th>Sales</th>\n",
              "      <th>CompPrice</th>\n",
              "      <th>Income</th>\n",
              "      <th>Advertising</th>\n",
              "      <th>Population</th>\n",
              "      <th>Price</th>\n",
              "      <th>ShelveLoc</th>\n",
              "      <th>Age</th>\n",
              "      <th>Education</th>\n",
              "      <th>Urban</th>\n",
              "      <th>US</th>\n",
              "    </tr>\n",
              "  </thead>\n",
              "  <tbody>\n",
              "    <tr>\n",
              "      <th>0</th>\n",
              "      <td>9.50</td>\n",
              "      <td>138</td>\n",
              "      <td>73</td>\n",
              "      <td>11</td>\n",
              "      <td>276</td>\n",
              "      <td>120</td>\n",
              "      <td>Bad</td>\n",
              "      <td>42</td>\n",
              "      <td>17</td>\n",
              "      <td>Yes</td>\n",
              "      <td>Yes</td>\n",
              "    </tr>\n",
              "    <tr>\n",
              "      <th>1</th>\n",
              "      <td>11.22</td>\n",
              "      <td>111</td>\n",
              "      <td>48</td>\n",
              "      <td>16</td>\n",
              "      <td>260</td>\n",
              "      <td>83</td>\n",
              "      <td>Good</td>\n",
              "      <td>65</td>\n",
              "      <td>10</td>\n",
              "      <td>Yes</td>\n",
              "      <td>Yes</td>\n",
              "    </tr>\n",
              "    <tr>\n",
              "      <th>2</th>\n",
              "      <td>10.06</td>\n",
              "      <td>113</td>\n",
              "      <td>35</td>\n",
              "      <td>10</td>\n",
              "      <td>269</td>\n",
              "      <td>80</td>\n",
              "      <td>Medium</td>\n",
              "      <td>59</td>\n",
              "      <td>12</td>\n",
              "      <td>Yes</td>\n",
              "      <td>Yes</td>\n",
              "    </tr>\n",
              "    <tr>\n",
              "      <th>3</th>\n",
              "      <td>7.40</td>\n",
              "      <td>117</td>\n",
              "      <td>100</td>\n",
              "      <td>4</td>\n",
              "      <td>466</td>\n",
              "      <td>97</td>\n",
              "      <td>Medium</td>\n",
              "      <td>55</td>\n",
              "      <td>14</td>\n",
              "      <td>Yes</td>\n",
              "      <td>Yes</td>\n",
              "    </tr>\n",
              "    <tr>\n",
              "      <th>4</th>\n",
              "      <td>4.15</td>\n",
              "      <td>141</td>\n",
              "      <td>64</td>\n",
              "      <td>3</td>\n",
              "      <td>340</td>\n",
              "      <td>128</td>\n",
              "      <td>Bad</td>\n",
              "      <td>38</td>\n",
              "      <td>13</td>\n",
              "      <td>Yes</td>\n",
              "      <td>No</td>\n",
              "    </tr>\n",
              "    <tr>\n",
              "      <th>...</th>\n",
              "      <td>...</td>\n",
              "      <td>...</td>\n",
              "      <td>...</td>\n",
              "      <td>...</td>\n",
              "      <td>...</td>\n",
              "      <td>...</td>\n",
              "      <td>...</td>\n",
              "      <td>...</td>\n",
              "      <td>...</td>\n",
              "      <td>...</td>\n",
              "      <td>...</td>\n",
              "    </tr>\n",
              "    <tr>\n",
              "      <th>395</th>\n",
              "      <td>12.57</td>\n",
              "      <td>138</td>\n",
              "      <td>108</td>\n",
              "      <td>17</td>\n",
              "      <td>203</td>\n",
              "      <td>128</td>\n",
              "      <td>Good</td>\n",
              "      <td>33</td>\n",
              "      <td>14</td>\n",
              "      <td>Yes</td>\n",
              "      <td>Yes</td>\n",
              "    </tr>\n",
              "    <tr>\n",
              "      <th>396</th>\n",
              "      <td>6.14</td>\n",
              "      <td>139</td>\n",
              "      <td>23</td>\n",
              "      <td>3</td>\n",
              "      <td>37</td>\n",
              "      <td>120</td>\n",
              "      <td>Medium</td>\n",
              "      <td>55</td>\n",
              "      <td>11</td>\n",
              "      <td>No</td>\n",
              "      <td>Yes</td>\n",
              "    </tr>\n",
              "    <tr>\n",
              "      <th>397</th>\n",
              "      <td>7.41</td>\n",
              "      <td>162</td>\n",
              "      <td>26</td>\n",
              "      <td>12</td>\n",
              "      <td>368</td>\n",
              "      <td>159</td>\n",
              "      <td>Medium</td>\n",
              "      <td>40</td>\n",
              "      <td>18</td>\n",
              "      <td>Yes</td>\n",
              "      <td>Yes</td>\n",
              "    </tr>\n",
              "    <tr>\n",
              "      <th>398</th>\n",
              "      <td>5.94</td>\n",
              "      <td>100</td>\n",
              "      <td>79</td>\n",
              "      <td>7</td>\n",
              "      <td>284</td>\n",
              "      <td>95</td>\n",
              "      <td>Bad</td>\n",
              "      <td>50</td>\n",
              "      <td>12</td>\n",
              "      <td>Yes</td>\n",
              "      <td>Yes</td>\n",
              "    </tr>\n",
              "    <tr>\n",
              "      <th>399</th>\n",
              "      <td>9.71</td>\n",
              "      <td>134</td>\n",
              "      <td>37</td>\n",
              "      <td>0</td>\n",
              "      <td>27</td>\n",
              "      <td>120</td>\n",
              "      <td>Good</td>\n",
              "      <td>49</td>\n",
              "      <td>16</td>\n",
              "      <td>Yes</td>\n",
              "      <td>Yes</td>\n",
              "    </tr>\n",
              "  </tbody>\n",
              "</table>\n",
              "<p>400 rows × 11 columns</p>\n",
              "</div>"
            ],
            "text/plain": [
              "     Sales  CompPrice  Income  Advertising  ...  Age  Education Urban   US\n",
              "0     9.50        138      73           11  ...   42         17   Yes  Yes\n",
              "1    11.22        111      48           16  ...   65         10   Yes  Yes\n",
              "2    10.06        113      35           10  ...   59         12   Yes  Yes\n",
              "3     7.40        117     100            4  ...   55         14   Yes  Yes\n",
              "4     4.15        141      64            3  ...   38         13   Yes   No\n",
              "..     ...        ...     ...          ...  ...  ...        ...   ...  ...\n",
              "395  12.57        138     108           17  ...   33         14   Yes  Yes\n",
              "396   6.14        139      23            3  ...   55         11    No  Yes\n",
              "397   7.41        162      26           12  ...   40         18   Yes  Yes\n",
              "398   5.94        100      79            7  ...   50         12   Yes  Yes\n",
              "399   9.71        134      37            0  ...   49         16   Yes  Yes\n",
              "\n",
              "[400 rows x 11 columns]"
            ]
          },
          "metadata": {},
          "execution_count": 2
        }
      ]
    },
    {
      "cell_type": "markdown",
      "metadata": {
        "id": "0ir8ZqaAWlQ8"
      },
      "source": [
        "#Data Preproccesing"
      ]
    },
    {
      "cell_type": "code",
      "metadata": {
        "colab": {
          "base_uri": "https://localhost:8080/",
          "height": 444
        },
        "id": "ZsT0P48oIZTx",
        "outputId": "82db0eba-ae24-4043-8a59-c57811d83deb"
      },
      "source": [
        "#Dummies\n",
        "df = pd.get_dummies(data)\n",
        "df"
      ],
      "execution_count": 3,
      "outputs": [
        {
          "output_type": "execute_result",
          "data": {
            "text/html": [
              "<div>\n",
              "<style scoped>\n",
              "    .dataframe tbody tr th:only-of-type {\n",
              "        vertical-align: middle;\n",
              "    }\n",
              "\n",
              "    .dataframe tbody tr th {\n",
              "        vertical-align: top;\n",
              "    }\n",
              "\n",
              "    .dataframe thead th {\n",
              "        text-align: right;\n",
              "    }\n",
              "</style>\n",
              "<table border=\"1\" class=\"dataframe\">\n",
              "  <thead>\n",
              "    <tr style=\"text-align: right;\">\n",
              "      <th></th>\n",
              "      <th>Sales</th>\n",
              "      <th>CompPrice</th>\n",
              "      <th>Income</th>\n",
              "      <th>Advertising</th>\n",
              "      <th>Population</th>\n",
              "      <th>Price</th>\n",
              "      <th>Age</th>\n",
              "      <th>Education</th>\n",
              "      <th>ShelveLoc_Bad</th>\n",
              "      <th>ShelveLoc_Good</th>\n",
              "      <th>ShelveLoc_Medium</th>\n",
              "      <th>Urban_No</th>\n",
              "      <th>Urban_Yes</th>\n",
              "      <th>US_No</th>\n",
              "      <th>US_Yes</th>\n",
              "    </tr>\n",
              "  </thead>\n",
              "  <tbody>\n",
              "    <tr>\n",
              "      <th>0</th>\n",
              "      <td>9.50</td>\n",
              "      <td>138</td>\n",
              "      <td>73</td>\n",
              "      <td>11</td>\n",
              "      <td>276</td>\n",
              "      <td>120</td>\n",
              "      <td>42</td>\n",
              "      <td>17</td>\n",
              "      <td>1</td>\n",
              "      <td>0</td>\n",
              "      <td>0</td>\n",
              "      <td>0</td>\n",
              "      <td>1</td>\n",
              "      <td>0</td>\n",
              "      <td>1</td>\n",
              "    </tr>\n",
              "    <tr>\n",
              "      <th>1</th>\n",
              "      <td>11.22</td>\n",
              "      <td>111</td>\n",
              "      <td>48</td>\n",
              "      <td>16</td>\n",
              "      <td>260</td>\n",
              "      <td>83</td>\n",
              "      <td>65</td>\n",
              "      <td>10</td>\n",
              "      <td>0</td>\n",
              "      <td>1</td>\n",
              "      <td>0</td>\n",
              "      <td>0</td>\n",
              "      <td>1</td>\n",
              "      <td>0</td>\n",
              "      <td>1</td>\n",
              "    </tr>\n",
              "    <tr>\n",
              "      <th>2</th>\n",
              "      <td>10.06</td>\n",
              "      <td>113</td>\n",
              "      <td>35</td>\n",
              "      <td>10</td>\n",
              "      <td>269</td>\n",
              "      <td>80</td>\n",
              "      <td>59</td>\n",
              "      <td>12</td>\n",
              "      <td>0</td>\n",
              "      <td>0</td>\n",
              "      <td>1</td>\n",
              "      <td>0</td>\n",
              "      <td>1</td>\n",
              "      <td>0</td>\n",
              "      <td>1</td>\n",
              "    </tr>\n",
              "    <tr>\n",
              "      <th>3</th>\n",
              "      <td>7.40</td>\n",
              "      <td>117</td>\n",
              "      <td>100</td>\n",
              "      <td>4</td>\n",
              "      <td>466</td>\n",
              "      <td>97</td>\n",
              "      <td>55</td>\n",
              "      <td>14</td>\n",
              "      <td>0</td>\n",
              "      <td>0</td>\n",
              "      <td>1</td>\n",
              "      <td>0</td>\n",
              "      <td>1</td>\n",
              "      <td>0</td>\n",
              "      <td>1</td>\n",
              "    </tr>\n",
              "    <tr>\n",
              "      <th>4</th>\n",
              "      <td>4.15</td>\n",
              "      <td>141</td>\n",
              "      <td>64</td>\n",
              "      <td>3</td>\n",
              "      <td>340</td>\n",
              "      <td>128</td>\n",
              "      <td>38</td>\n",
              "      <td>13</td>\n",
              "      <td>1</td>\n",
              "      <td>0</td>\n",
              "      <td>0</td>\n",
              "      <td>0</td>\n",
              "      <td>1</td>\n",
              "      <td>1</td>\n",
              "      <td>0</td>\n",
              "    </tr>\n",
              "    <tr>\n",
              "      <th>...</th>\n",
              "      <td>...</td>\n",
              "      <td>...</td>\n",
              "      <td>...</td>\n",
              "      <td>...</td>\n",
              "      <td>...</td>\n",
              "      <td>...</td>\n",
              "      <td>...</td>\n",
              "      <td>...</td>\n",
              "      <td>...</td>\n",
              "      <td>...</td>\n",
              "      <td>...</td>\n",
              "      <td>...</td>\n",
              "      <td>...</td>\n",
              "      <td>...</td>\n",
              "      <td>...</td>\n",
              "    </tr>\n",
              "    <tr>\n",
              "      <th>395</th>\n",
              "      <td>12.57</td>\n",
              "      <td>138</td>\n",
              "      <td>108</td>\n",
              "      <td>17</td>\n",
              "      <td>203</td>\n",
              "      <td>128</td>\n",
              "      <td>33</td>\n",
              "      <td>14</td>\n",
              "      <td>0</td>\n",
              "      <td>1</td>\n",
              "      <td>0</td>\n",
              "      <td>0</td>\n",
              "      <td>1</td>\n",
              "      <td>0</td>\n",
              "      <td>1</td>\n",
              "    </tr>\n",
              "    <tr>\n",
              "      <th>396</th>\n",
              "      <td>6.14</td>\n",
              "      <td>139</td>\n",
              "      <td>23</td>\n",
              "      <td>3</td>\n",
              "      <td>37</td>\n",
              "      <td>120</td>\n",
              "      <td>55</td>\n",
              "      <td>11</td>\n",
              "      <td>0</td>\n",
              "      <td>0</td>\n",
              "      <td>1</td>\n",
              "      <td>1</td>\n",
              "      <td>0</td>\n",
              "      <td>0</td>\n",
              "      <td>1</td>\n",
              "    </tr>\n",
              "    <tr>\n",
              "      <th>397</th>\n",
              "      <td>7.41</td>\n",
              "      <td>162</td>\n",
              "      <td>26</td>\n",
              "      <td>12</td>\n",
              "      <td>368</td>\n",
              "      <td>159</td>\n",
              "      <td>40</td>\n",
              "      <td>18</td>\n",
              "      <td>0</td>\n",
              "      <td>0</td>\n",
              "      <td>1</td>\n",
              "      <td>0</td>\n",
              "      <td>1</td>\n",
              "      <td>0</td>\n",
              "      <td>1</td>\n",
              "    </tr>\n",
              "    <tr>\n",
              "      <th>398</th>\n",
              "      <td>5.94</td>\n",
              "      <td>100</td>\n",
              "      <td>79</td>\n",
              "      <td>7</td>\n",
              "      <td>284</td>\n",
              "      <td>95</td>\n",
              "      <td>50</td>\n",
              "      <td>12</td>\n",
              "      <td>1</td>\n",
              "      <td>0</td>\n",
              "      <td>0</td>\n",
              "      <td>0</td>\n",
              "      <td>1</td>\n",
              "      <td>0</td>\n",
              "      <td>1</td>\n",
              "    </tr>\n",
              "    <tr>\n",
              "      <th>399</th>\n",
              "      <td>9.71</td>\n",
              "      <td>134</td>\n",
              "      <td>37</td>\n",
              "      <td>0</td>\n",
              "      <td>27</td>\n",
              "      <td>120</td>\n",
              "      <td>49</td>\n",
              "      <td>16</td>\n",
              "      <td>0</td>\n",
              "      <td>1</td>\n",
              "      <td>0</td>\n",
              "      <td>0</td>\n",
              "      <td>1</td>\n",
              "      <td>0</td>\n",
              "      <td>1</td>\n",
              "    </tr>\n",
              "  </tbody>\n",
              "</table>\n",
              "<p>400 rows × 15 columns</p>\n",
              "</div>"
            ],
            "text/plain": [
              "     Sales  CompPrice  Income  Advertising  ...  Urban_No  Urban_Yes  US_No  US_Yes\n",
              "0     9.50        138      73           11  ...         0          1      0       1\n",
              "1    11.22        111      48           16  ...         0          1      0       1\n",
              "2    10.06        113      35           10  ...         0          1      0       1\n",
              "3     7.40        117     100            4  ...         0          1      0       1\n",
              "4     4.15        141      64            3  ...         0          1      1       0\n",
              "..     ...        ...     ...          ...  ...       ...        ...    ...     ...\n",
              "395  12.57        138     108           17  ...         0          1      0       1\n",
              "396   6.14        139      23            3  ...         1          0      0       1\n",
              "397   7.41        162      26           12  ...         0          1      0       1\n",
              "398   5.94        100      79            7  ...         0          1      0       1\n",
              "399   9.71        134      37            0  ...         0          1      0       1\n",
              "\n",
              "[400 rows x 15 columns]"
            ]
          },
          "metadata": {},
          "execution_count": 3
        }
      ]
    },
    {
      "cell_type": "code",
      "metadata": {
        "colab": {
          "base_uri": "https://localhost:8080/"
        },
        "id": "2Bo3luA5J8yc",
        "outputId": "567a67d3-8012-4591-bdc5-6d19c9088092"
      },
      "source": [
        "df.info()"
      ],
      "execution_count": 4,
      "outputs": [
        {
          "output_type": "stream",
          "name": "stdout",
          "text": [
            "<class 'pandas.core.frame.DataFrame'>\n",
            "RangeIndex: 400 entries, 0 to 399\n",
            "Data columns (total 15 columns):\n",
            " #   Column            Non-Null Count  Dtype  \n",
            "---  ------            --------------  -----  \n",
            " 0   Sales             400 non-null    float64\n",
            " 1   CompPrice         400 non-null    int64  \n",
            " 2   Income            400 non-null    int64  \n",
            " 3   Advertising       400 non-null    int64  \n",
            " 4   Population        400 non-null    int64  \n",
            " 5   Price             400 non-null    int64  \n",
            " 6   Age               400 non-null    int64  \n",
            " 7   Education         400 non-null    int64  \n",
            " 8   ShelveLoc_Bad     400 non-null    uint8  \n",
            " 9   ShelveLoc_Good    400 non-null    uint8  \n",
            " 10  ShelveLoc_Medium  400 non-null    uint8  \n",
            " 11  Urban_No          400 non-null    uint8  \n",
            " 12  Urban_Yes         400 non-null    uint8  \n",
            " 13  US_No             400 non-null    uint8  \n",
            " 14  US_Yes            400 non-null    uint8  \n",
            "dtypes: float64(1), int64(7), uint8(7)\n",
            "memory usage: 27.9 KB\n"
          ]
        }
      ]
    },
    {
      "cell_type": "code",
      "metadata": {
        "colab": {
          "base_uri": "https://localhost:8080/",
          "height": 320
        },
        "id": "H6FjpSG8Wg9R",
        "outputId": "eafa1aa7-bbcf-4755-cc8e-4692332662ed"
      },
      "source": [
        "#Creating Dummies variables\n",
        "data_dummies = (df[['Sales', 'CompPrice', 'Income', 'Advertising', 'Population', 'Price', 'Age', 'Education', 'ShelveLoc_Bad', 'ShelveLoc_Good', 'ShelveLoc_Medium','Urban_No','Urban_Yes','US_No','US_Yes']])\n",
        "data_dummies.describe()"
      ],
      "execution_count": 5,
      "outputs": [
        {
          "output_type": "execute_result",
          "data": {
            "text/html": [
              "<div>\n",
              "<style scoped>\n",
              "    .dataframe tbody tr th:only-of-type {\n",
              "        vertical-align: middle;\n",
              "    }\n",
              "\n",
              "    .dataframe tbody tr th {\n",
              "        vertical-align: top;\n",
              "    }\n",
              "\n",
              "    .dataframe thead th {\n",
              "        text-align: right;\n",
              "    }\n",
              "</style>\n",
              "<table border=\"1\" class=\"dataframe\">\n",
              "  <thead>\n",
              "    <tr style=\"text-align: right;\">\n",
              "      <th></th>\n",
              "      <th>Sales</th>\n",
              "      <th>CompPrice</th>\n",
              "      <th>Income</th>\n",
              "      <th>Advertising</th>\n",
              "      <th>Population</th>\n",
              "      <th>Price</th>\n",
              "      <th>Age</th>\n",
              "      <th>Education</th>\n",
              "      <th>ShelveLoc_Bad</th>\n",
              "      <th>ShelveLoc_Good</th>\n",
              "      <th>ShelveLoc_Medium</th>\n",
              "      <th>Urban_No</th>\n",
              "      <th>Urban_Yes</th>\n",
              "      <th>US_No</th>\n",
              "      <th>US_Yes</th>\n",
              "    </tr>\n",
              "  </thead>\n",
              "  <tbody>\n",
              "    <tr>\n",
              "      <th>count</th>\n",
              "      <td>400.000000</td>\n",
              "      <td>400.000000</td>\n",
              "      <td>400.000000</td>\n",
              "      <td>400.000000</td>\n",
              "      <td>400.000000</td>\n",
              "      <td>400.000000</td>\n",
              "      <td>400.000000</td>\n",
              "      <td>400.000000</td>\n",
              "      <td>400.000000</td>\n",
              "      <td>400.000000</td>\n",
              "      <td>400.000000</td>\n",
              "      <td>400.000000</td>\n",
              "      <td>400.000000</td>\n",
              "      <td>400.000000</td>\n",
              "      <td>400.000000</td>\n",
              "    </tr>\n",
              "    <tr>\n",
              "      <th>mean</th>\n",
              "      <td>7.496325</td>\n",
              "      <td>124.975000</td>\n",
              "      <td>68.657500</td>\n",
              "      <td>6.635000</td>\n",
              "      <td>264.840000</td>\n",
              "      <td>115.795000</td>\n",
              "      <td>53.322500</td>\n",
              "      <td>13.900000</td>\n",
              "      <td>0.240000</td>\n",
              "      <td>0.212500</td>\n",
              "      <td>0.547500</td>\n",
              "      <td>0.295000</td>\n",
              "      <td>0.705000</td>\n",
              "      <td>0.355000</td>\n",
              "      <td>0.645000</td>\n",
              "    </tr>\n",
              "    <tr>\n",
              "      <th>std</th>\n",
              "      <td>2.824115</td>\n",
              "      <td>15.334512</td>\n",
              "      <td>27.986037</td>\n",
              "      <td>6.650364</td>\n",
              "      <td>147.376436</td>\n",
              "      <td>23.676664</td>\n",
              "      <td>16.200297</td>\n",
              "      <td>2.620528</td>\n",
              "      <td>0.427618</td>\n",
              "      <td>0.409589</td>\n",
              "      <td>0.498362</td>\n",
              "      <td>0.456614</td>\n",
              "      <td>0.456614</td>\n",
              "      <td>0.479113</td>\n",
              "      <td>0.479113</td>\n",
              "    </tr>\n",
              "    <tr>\n",
              "      <th>min</th>\n",
              "      <td>0.000000</td>\n",
              "      <td>77.000000</td>\n",
              "      <td>21.000000</td>\n",
              "      <td>0.000000</td>\n",
              "      <td>10.000000</td>\n",
              "      <td>24.000000</td>\n",
              "      <td>25.000000</td>\n",
              "      <td>10.000000</td>\n",
              "      <td>0.000000</td>\n",
              "      <td>0.000000</td>\n",
              "      <td>0.000000</td>\n",
              "      <td>0.000000</td>\n",
              "      <td>0.000000</td>\n",
              "      <td>0.000000</td>\n",
              "      <td>0.000000</td>\n",
              "    </tr>\n",
              "    <tr>\n",
              "      <th>25%</th>\n",
              "      <td>5.390000</td>\n",
              "      <td>115.000000</td>\n",
              "      <td>42.750000</td>\n",
              "      <td>0.000000</td>\n",
              "      <td>139.000000</td>\n",
              "      <td>100.000000</td>\n",
              "      <td>39.750000</td>\n",
              "      <td>12.000000</td>\n",
              "      <td>0.000000</td>\n",
              "      <td>0.000000</td>\n",
              "      <td>0.000000</td>\n",
              "      <td>0.000000</td>\n",
              "      <td>0.000000</td>\n",
              "      <td>0.000000</td>\n",
              "      <td>0.000000</td>\n",
              "    </tr>\n",
              "    <tr>\n",
              "      <th>50%</th>\n",
              "      <td>7.490000</td>\n",
              "      <td>125.000000</td>\n",
              "      <td>69.000000</td>\n",
              "      <td>5.000000</td>\n",
              "      <td>272.000000</td>\n",
              "      <td>117.000000</td>\n",
              "      <td>54.500000</td>\n",
              "      <td>14.000000</td>\n",
              "      <td>0.000000</td>\n",
              "      <td>0.000000</td>\n",
              "      <td>1.000000</td>\n",
              "      <td>0.000000</td>\n",
              "      <td>1.000000</td>\n",
              "      <td>0.000000</td>\n",
              "      <td>1.000000</td>\n",
              "    </tr>\n",
              "    <tr>\n",
              "      <th>75%</th>\n",
              "      <td>9.320000</td>\n",
              "      <td>135.000000</td>\n",
              "      <td>91.000000</td>\n",
              "      <td>12.000000</td>\n",
              "      <td>398.500000</td>\n",
              "      <td>131.000000</td>\n",
              "      <td>66.000000</td>\n",
              "      <td>16.000000</td>\n",
              "      <td>0.000000</td>\n",
              "      <td>0.000000</td>\n",
              "      <td>1.000000</td>\n",
              "      <td>1.000000</td>\n",
              "      <td>1.000000</td>\n",
              "      <td>1.000000</td>\n",
              "      <td>1.000000</td>\n",
              "    </tr>\n",
              "    <tr>\n",
              "      <th>max</th>\n",
              "      <td>16.270000</td>\n",
              "      <td>175.000000</td>\n",
              "      <td>120.000000</td>\n",
              "      <td>29.000000</td>\n",
              "      <td>509.000000</td>\n",
              "      <td>191.000000</td>\n",
              "      <td>80.000000</td>\n",
              "      <td>18.000000</td>\n",
              "      <td>1.000000</td>\n",
              "      <td>1.000000</td>\n",
              "      <td>1.000000</td>\n",
              "      <td>1.000000</td>\n",
              "      <td>1.000000</td>\n",
              "      <td>1.000000</td>\n",
              "      <td>1.000000</td>\n",
              "    </tr>\n",
              "  </tbody>\n",
              "</table>\n",
              "</div>"
            ],
            "text/plain": [
              "            Sales   CompPrice      Income  ...   Urban_Yes       US_No      US_Yes\n",
              "count  400.000000  400.000000  400.000000  ...  400.000000  400.000000  400.000000\n",
              "mean     7.496325  124.975000   68.657500  ...    0.705000    0.355000    0.645000\n",
              "std      2.824115   15.334512   27.986037  ...    0.456614    0.479113    0.479113\n",
              "min      0.000000   77.000000   21.000000  ...    0.000000    0.000000    0.000000\n",
              "25%      5.390000  115.000000   42.750000  ...    0.000000    0.000000    0.000000\n",
              "50%      7.490000  125.000000   69.000000  ...    1.000000    0.000000    1.000000\n",
              "75%      9.320000  135.000000   91.000000  ...    1.000000    1.000000    1.000000\n",
              "max     16.270000  175.000000  120.000000  ...    1.000000    1.000000    1.000000\n",
              "\n",
              "[8 rows x 15 columns]"
            ]
          },
          "metadata": {},
          "execution_count": 5
        }
      ]
    },
    {
      "cell_type": "code",
      "metadata": {
        "id": "hH0aP1x5WpA_"
      },
      "source": [
        "# define the data/predictors as the pre-set feature names  \n",
        "features = ['CompPrice', 'Income', 'Advertising', 'Population', 'Price', 'Age', 'Education', 'ShelveLoc_Bad', 'ShelveLoc_Good', 'ShelveLoc_Medium','Urban_No','Urban_Yes','US_No','US_Yes']\n",
        "df_1 = data_dummies[features]\n",
        "# Put the target (Sold seats = 'Sales') in another DataFrame\n",
        "target = data_dummies[['Sales']]"
      ],
      "execution_count": 6,
      "outputs": []
    },
    {
      "cell_type": "markdown",
      "metadata": {
        "id": "g0PgNodlgMm6"
      },
      "source": [
        "#Linear Regression"
      ]
    },
    {
      "cell_type": "code",
      "metadata": {
        "id": "IynamEmZWsK3",
        "colab": {
          "base_uri": "https://localhost:8080/",
          "height": 430
        },
        "outputId": "fb961554-72d4-424f-ac2c-267019c97db8"
      },
      "source": [
        "## Without a constant\n",
        "\n",
        "X = df_1[\"CompPrice\"]\n",
        "y = target[\"Sales\"]\n",
        "\n",
        "# Note the difference in argument order\n",
        "model = sm.OLS(y, X).fit()\n",
        "predictions = model.predict(X) # make the predictions by the model\n",
        "\n",
        "# Print out the statistics\n",
        "model.summary()"
      ],
      "execution_count": 7,
      "outputs": [
        {
          "output_type": "execute_result",
          "data": {
            "text/html": [
              "<table class=\"simpletable\">\n",
              "<caption>OLS Regression Results</caption>\n",
              "<tr>\n",
              "  <th>Dep. Variable:</th>          <td>Sales</td>      <th>  R-squared (uncentered):</th>      <td>   0.868</td> \n",
              "</tr>\n",
              "<tr>\n",
              "  <th>Model:</th>                   <td>OLS</td>       <th>  Adj. R-squared (uncentered):</th> <td>   0.868</td> \n",
              "</tr>\n",
              "<tr>\n",
              "  <th>Method:</th>             <td>Least Squares</td>  <th>  F-statistic:       </th>          <td>   2627.</td> \n",
              "</tr>\n",
              "<tr>\n",
              "  <th>Date:</th>             <td>Tue, 07 Dec 2021</td> <th>  Prob (F-statistic):</th>          <td>1.26e-177</td>\n",
              "</tr>\n",
              "<tr>\n",
              "  <th>Time:</th>                 <td>07:47:03</td>     <th>  Log-Likelihood:    </th>          <td> -994.63</td> \n",
              "</tr>\n",
              "<tr>\n",
              "  <th>No. Observations:</th>      <td>   400</td>      <th>  AIC:               </th>          <td>   1991.</td> \n",
              "</tr>\n",
              "<tr>\n",
              "  <th>Df Residuals:</th>          <td>   399</td>      <th>  BIC:               </th>          <td>   1995.</td> \n",
              "</tr>\n",
              "<tr>\n",
              "  <th>Df Model:</th>              <td>     1</td>      <th>                     </th>              <td> </td>    \n",
              "</tr>\n",
              "<tr>\n",
              "  <th>Covariance Type:</th>      <td>nonrobust</td>    <th>                     </th>              <td> </td>    \n",
              "</tr>\n",
              "</table>\n",
              "<table class=\"simpletable\">\n",
              "<tr>\n",
              "      <td></td>         <th>coef</th>     <th>std err</th>      <th>t</th>      <th>P>|t|</th>  <th>[0.025</th>    <th>0.975]</th>  \n",
              "</tr>\n",
              "<tr>\n",
              "  <th>CompPrice</th> <td>    0.0593</td> <td>    0.001</td> <td>   51.252</td> <td> 0.000</td> <td>    0.057</td> <td>    0.062</td>\n",
              "</tr>\n",
              "</table>\n",
              "<table class=\"simpletable\">\n",
              "<tr>\n",
              "  <th>Omnibus:</th>       <td> 3.220</td> <th>  Durbin-Watson:     </th> <td>   1.958</td>\n",
              "</tr>\n",
              "<tr>\n",
              "  <th>Prob(Omnibus):</th> <td> 0.200</td> <th>  Jarque-Bera (JB):  </th> <td>   3.285</td>\n",
              "</tr>\n",
              "<tr>\n",
              "  <th>Skew:</th>          <td> 0.215</td> <th>  Prob(JB):          </th> <td>   0.194</td>\n",
              "</tr>\n",
              "<tr>\n",
              "  <th>Kurtosis:</th>      <td> 2.886</td> <th>  Cond. No.          </th> <td>    1.00</td>\n",
              "</tr>\n",
              "</table><br/><br/>Warnings:<br/>[1] Standard Errors assume that the covariance matrix of the errors is correctly specified."
            ],
            "text/plain": [
              "<class 'statsmodels.iolib.summary.Summary'>\n",
              "\"\"\"\n",
              "                                 OLS Regression Results                                \n",
              "=======================================================================================\n",
              "Dep. Variable:                  Sales   R-squared (uncentered):                   0.868\n",
              "Model:                            OLS   Adj. R-squared (uncentered):              0.868\n",
              "Method:                 Least Squares   F-statistic:                              2627.\n",
              "Date:                Tue, 07 Dec 2021   Prob (F-statistic):                   1.26e-177\n",
              "Time:                        07:47:03   Log-Likelihood:                         -994.63\n",
              "No. Observations:                 400   AIC:                                      1991.\n",
              "Df Residuals:                     399   BIC:                                      1995.\n",
              "Df Model:                           1                                                  \n",
              "Covariance Type:            nonrobust                                                  \n",
              "==============================================================================\n",
              "                 coef    std err          t      P>|t|      [0.025      0.975]\n",
              "------------------------------------------------------------------------------\n",
              "CompPrice      0.0593      0.001     51.252      0.000       0.057       0.062\n",
              "==============================================================================\n",
              "Omnibus:                        3.220   Durbin-Watson:                   1.958\n",
              "Prob(Omnibus):                  0.200   Jarque-Bera (JB):                3.285\n",
              "Skew:                           0.215   Prob(JB):                        0.194\n",
              "Kurtosis:                       2.886   Cond. No.                         1.00\n",
              "==============================================================================\n",
              "\n",
              "Warnings:\n",
              "[1] Standard Errors assume that the covariance matrix of the errors is correctly specified.\n",
              "\"\"\""
            ]
          },
          "metadata": {},
          "execution_count": 7
        }
      ]
    },
    {
      "cell_type": "markdown",
      "metadata": {
        "id": "VT4TZEpmW0Lt"
      },
      "source": [
        "**Interpreting the Table** —  \n",
        "\n",
        "*   We see the Dependent variable = Sales\n",
        "*   Model used = OLS (Ordinary Least Squares)\n",
        "*   Method used = “Least Squares” means that we’re trying to fit a regression line that would minimize the square of distance from the regression line\n",
        "*   The coefficient of 0.0593 means that as the CompPrice variable increases by 1, the predicted value of Sales increases by 0.0593. \n",
        "*   R-squared — the percentage of variance our model explains i.e. 86.8% (Good); \n",
        "\n",
        "\n"
      ]
    },
    {
      "cell_type": "code",
      "metadata": {
        "id": "8Umfz_yiWvrj",
        "colab": {
          "base_uri": "https://localhost:8080/"
        },
        "outputId": "8cb654b1-be14-4154-eafc-1b307ed2a226"
      },
      "source": [
        "#Splitting Data\n",
        "X = df_1\n",
        "y = target[\"Sales\"]\n",
        "\n",
        "#Split data into training and test data\n",
        "X_train, X_test, y_train, y_test = train_test_split(X, y, test_size=0.2, random_state=1)\n",
        "print(X_train.shape); print(X_test.shape)"
      ],
      "execution_count": 8,
      "outputs": [
        {
          "output_type": "stream",
          "name": "stdout",
          "text": [
            "(320, 14)\n",
            "(80, 14)\n"
          ]
        }
      ]
    },
    {
      "cell_type": "code",
      "metadata": {
        "id": "NhF87BkyXEeq",
        "colab": {
          "base_uri": "https://localhost:8080/"
        },
        "outputId": "34670166-53d2-4379-cd57-958a97aa1c3e"
      },
      "source": [
        "#Linear Regression\n",
        "print(\"Linear Regression\")\n",
        "lr = LinearRegression()\n",
        "lr.fit(X_train, y_train)\n",
        "pred_train_lr= lr.predict(X_train)\n",
        "print(\"\\tRMSE training: \" + str(np.sqrt(mean_squared_error(y_train,pred_train_lr))))\n",
        "print(\"\\tR-squared training:  \" + str(r2_score(y_train, pred_train_lr)))\n",
        "\n",
        "pred_test_lr= lr.predict(X_test)\n",
        "print(\"\\tRMSE testing: \" +str(np.sqrt(mean_squared_error(y_test,pred_test_lr)))) \n",
        "print(\"\\tR-squared testing: \" + str(r2_score(y_test, pred_test_lr)))"
      ],
      "execution_count": 9,
      "outputs": [
        {
          "output_type": "stream",
          "name": "stdout",
          "text": [
            "Linear Regression\n",
            "\tRMSE training: 0.9828630046011684\n",
            "\tR-squared training:  0.8768584027489792\n",
            "\tRMSE testing: 1.1078274030007706\n",
            "\tR-squared testing: 0.8520714327642556\n"
          ]
        }
      ]
    },
    {
      "cell_type": "markdown",
      "metadata": {
        "id": "bPmoFHZPofc4"
      },
      "source": [
        "As we can see from the results that the Linear Model gives us a  r-squared of 87.6% on the training and 85.2% on the testing data. This is quite high. Lets see if we can try improve this by implementing other models. "
      ]
    },
    {
      "cell_type": "markdown",
      "metadata": {
        "id": "Un5LLC_Taxu7"
      },
      "source": [
        "#Forward & Backward Selection"
      ]
    },
    {
      "cell_type": "code",
      "metadata": {
        "id": "D9CSWb7PbOBG"
      },
      "source": [
        "def processSubset(feature_set):\n",
        "    # Fit model on feature_set and calculate RSS\n",
        "    model = sm.OLS(y,X[list(feature_set)])\n",
        "    regr = model.fit()\n",
        "    RSS = ((regr.predict(X[list(feature_set)]) - y) ** 2).sum()\n",
        "    return {\"model\":regr, \"RSS\":RSS}"
      ],
      "execution_count": 10,
      "outputs": []
    },
    {
      "cell_type": "code",
      "metadata": {
        "id": "LX_uIjc2ZWIX"
      },
      "source": [
        "#Forward Selection\n",
        "def forward(predictors):\n",
        "\n",
        "    # Pull out predictors we still need to process\n",
        "    remaining_predictors = [p for p in X.columns if p not in predictors]\n",
        "    \n",
        "    tic = time.time()\n",
        "    \n",
        "    results = []\n",
        "    \n",
        "    for p in remaining_predictors:\n",
        "        results.append(processSubset(predictors+[p]))\n",
        "    \n",
        "    # Wrap everything up in a nice dataframe\n",
        "    models = pd.DataFrame(results)\n",
        "    \n",
        "    # Choose the model with the highest RSS\n",
        "    best_model = models.loc[models['RSS'].argmin()]\n",
        "    \n",
        "    toc = time.time()\n",
        "    print(\"Processed \", models.shape[0], \"models on\", len(predictors)+1, \"predictors in\", (toc-tic), \"seconds.\")\n",
        "    \n",
        "    # Return the best model, along with some other useful information about the model\n",
        "    return best_model\n"
      ],
      "execution_count": 11,
      "outputs": []
    },
    {
      "cell_type": "code",
      "metadata": {
        "id": "Dufb2n_XZo__",
        "colab": {
          "base_uri": "https://localhost:8080/"
        },
        "outputId": "616e3cb0-f70d-4ef2-d48b-292fcdc3b3d7"
      },
      "source": [
        "models_fwd = pd.DataFrame(columns=[\"RSS\", \"model\"])\n",
        "\n",
        "tic = time.time()\n",
        "predictors = []\n",
        "\n",
        "for i in range(1,len(X.columns)+1):    \n",
        "    models_fwd.loc[i] = forward(predictors)\n",
        "    predictors = models_fwd.loc[i][\"model\"].model.exog_names\n",
        "\n",
        "toc = time.time()\n",
        "print(\"Total elapsed time:\", (toc-tic), \"seconds.\")"
      ],
      "execution_count": 12,
      "outputs": [
        {
          "output_type": "stream",
          "name": "stdout",
          "text": [
            "Processed  14 models on 1 predictors in 0.08311319351196289 seconds.\n",
            "Processed  13 models on 2 predictors in 0.06594228744506836 seconds.\n",
            "Processed  12 models on 3 predictors in 0.06758642196655273 seconds.\n",
            "Processed  11 models on 4 predictors in 0.0803523063659668 seconds.\n",
            "Processed  10 models on 5 predictors in 0.0804147720336914 seconds.\n",
            "Processed  9 models on 6 predictors in 0.04371500015258789 seconds.\n",
            "Processed  8 models on 7 predictors in 0.058243751525878906 seconds.\n",
            "Processed  7 models on 8 predictors in 0.05600690841674805 seconds.\n",
            "Processed  6 models on 9 predictors in 0.05743122100830078 seconds.\n",
            "Processed  5 models on 10 predictors in 0.09278655052185059 seconds.\n",
            "Processed  4 models on 11 predictors in 0.02266073226928711 seconds.\n",
            "Processed  3 models on 12 predictors in 0.03736233711242676 seconds.\n",
            "Processed  2 models on 13 predictors in 0.047164201736450195 seconds.\n",
            "Processed  1 models on 14 predictors in 0.020010948181152344 seconds.\n",
            "Total elapsed time: 0.9589483737945557 seconds.\n"
          ]
        }
      ]
    },
    {
      "cell_type": "code",
      "metadata": {
        "id": "Zkb-d8Y0Zvw5",
        "colab": {
          "base_uri": "https://localhost:8080/"
        },
        "outputId": "c05f2b2a-babd-4cd4-ae60-86f45169f52e"
      },
      "source": [
        "print(models_fwd.loc[1, \"model\"].summary())\n",
        "print(models_fwd.loc[2, \"model\"].summary())\n",
        "print(models_fwd.loc[3, \"model\"].summary())\n",
        "print(models_fwd.loc[4, \"model\"].summary())\n",
        "print(models_fwd.loc[5, \"model\"].summary())\n",
        "print(models_fwd.loc[6, \"model\"].summary())\n",
        "print(models_fwd.loc[7, \"model\"].summary())\n",
        "print(models_fwd.loc[8, \"model\"].summary())"
      ],
      "execution_count": 13,
      "outputs": [
        {
          "output_type": "stream",
          "name": "stdout",
          "text": [
            "                                 OLS Regression Results                                \n",
            "=======================================================================================\n",
            "Dep. Variable:                  Sales   R-squared (uncentered):                   0.868\n",
            "Model:                            OLS   Adj. R-squared (uncentered):              0.868\n",
            "Method:                 Least Squares   F-statistic:                              2627.\n",
            "Date:                Tue, 07 Dec 2021   Prob (F-statistic):                   1.26e-177\n",
            "Time:                        07:47:04   Log-Likelihood:                         -994.63\n",
            "No. Observations:                 400   AIC:                                      1991.\n",
            "Df Residuals:                     399   BIC:                                      1995.\n",
            "Df Model:                           1                                                  \n",
            "Covariance Type:            nonrobust                                                  \n",
            "==============================================================================\n",
            "                 coef    std err          t      P>|t|      [0.025      0.975]\n",
            "------------------------------------------------------------------------------\n",
            "CompPrice      0.0593      0.001     51.252      0.000       0.057       0.062\n",
            "==============================================================================\n",
            "Omnibus:                        3.220   Durbin-Watson:                   1.958\n",
            "Prob(Omnibus):                  0.200   Jarque-Bera (JB):                3.285\n",
            "Skew:                           0.215   Prob(JB):                        0.194\n",
            "Kurtosis:                       2.886   Cond. No.                         1.00\n",
            "==============================================================================\n",
            "\n",
            "Warnings:\n",
            "[1] Standard Errors assume that the covariance matrix of the errors is correctly specified.\n",
            "                                 OLS Regression Results                                \n",
            "=======================================================================================\n",
            "Dep. Variable:                  Sales   R-squared (uncentered):                   0.911\n",
            "Model:                            OLS   Adj. R-squared (uncentered):              0.911\n",
            "Method:                 Least Squares   F-statistic:                              2044.\n",
            "Date:                Tue, 07 Dec 2021   Prob (F-statistic):                   4.61e-210\n",
            "Time:                        07:47:04   Log-Likelihood:                         -915.39\n",
            "No. Observations:                 400   AIC:                                      1835.\n",
            "Df Residuals:                     398   BIC:                                      1843.\n",
            "Df Model:                           2                                                  \n",
            "Covariance Type:            nonrobust                                                  \n",
            "==============================================================================\n",
            "                 coef    std err          t      P>|t|      [0.025      0.975]\n",
            "------------------------------------------------------------------------------\n",
            "CompPrice      0.1396      0.006     23.856      0.000       0.128       0.151\n",
            "Price         -0.0867      0.006    -13.911      0.000      -0.099      -0.074\n",
            "==============================================================================\n",
            "Omnibus:                       11.392   Durbin-Watson:                   2.010\n",
            "Prob(Omnibus):                  0.003   Jarque-Bera (JB):               11.044\n",
            "Skew:                           0.365   Prob(JB):                      0.00400\n",
            "Kurtosis:                       2.641   Cond. No.                         12.3\n",
            "==============================================================================\n",
            "\n",
            "Warnings:\n",
            "[1] Standard Errors assume that the covariance matrix of the errors is correctly specified.\n",
            "                                 OLS Regression Results                                \n",
            "=======================================================================================\n",
            "Dep. Variable:                  Sales   R-squared (uncentered):                   0.946\n",
            "Model:                            OLS   Adj. R-squared (uncentered):              0.946\n",
            "Method:                 Least Squares   F-statistic:                              2330.\n",
            "Date:                Tue, 07 Dec 2021   Prob (F-statistic):                   1.42e-251\n",
            "Time:                        07:47:04   Log-Likelihood:                         -815.10\n",
            "No. Observations:                 400   AIC:                                      1636.\n",
            "Df Residuals:                     397   BIC:                                      1648.\n",
            "Df Model:                           3                                                  \n",
            "Covariance Type:            nonrobust                                                  \n",
            "==================================================================================\n",
            "                     coef    std err          t      P>|t|      [0.025      0.975]\n",
            "----------------------------------------------------------------------------------\n",
            "CompPrice          0.1362      0.005     29.834      0.000       0.127       0.145\n",
            "Price             -0.0897      0.005    -18.453      0.000      -0.099      -0.080\n",
            "ShelveLoc_Good     3.6638      0.228     16.077      0.000       3.216       4.112\n",
            "==============================================================================\n",
            "Omnibus:                        2.746   Durbin-Watson:                   2.090\n",
            "Prob(Omnibus):                  0.253   Jarque-Bera (JB):                2.767\n",
            "Skew:                           0.201   Prob(JB):                        0.251\n",
            "Kurtosis:                       2.929   Cond. No.                         421.\n",
            "==============================================================================\n",
            "\n",
            "Warnings:\n",
            "[1] Standard Errors assume that the covariance matrix of the errors is correctly specified.\n",
            "                                 OLS Regression Results                                \n",
            "=======================================================================================\n",
            "Dep. Variable:                  Sales   R-squared (uncentered):                   0.959\n",
            "Model:                            OLS   Adj. R-squared (uncentered):              0.959\n",
            "Method:                 Least Squares   F-statistic:                              2312.\n",
            "Date:                Tue, 07 Dec 2021   Prob (F-statistic):                   5.41e-273\n",
            "Time:                        07:47:04   Log-Likelihood:                         -761.27\n",
            "No. Observations:                 400   AIC:                                      1531.\n",
            "Df Residuals:                     396   BIC:                                      1546.\n",
            "Df Model:                           4                                                  \n",
            "Covariance Type:            nonrobust                                                  \n",
            "==================================================================================\n",
            "                     coef    std err          t      P>|t|      [0.025      0.975]\n",
            "----------------------------------------------------------------------------------\n",
            "CompPrice          0.1325      0.004     33.057      0.000       0.125       0.140\n",
            "Price             -0.0931      0.004    -21.828      0.000      -0.101      -0.085\n",
            "ShelveLoc_Good     3.5337      0.200     17.687      0.000       3.141       3.926\n",
            "Advertising        0.1350      0.012     11.060      0.000       0.111       0.159\n",
            "==============================================================================\n",
            "Omnibus:                        0.332   Durbin-Watson:                   2.172\n",
            "Prob(Omnibus):                  0.847   Jarque-Bera (JB):                0.199\n",
            "Skew:                           0.042   Prob(JB):                        0.905\n",
            "Kurtosis:                       3.070   Cond. No.                         422.\n",
            "==============================================================================\n",
            "\n",
            "Warnings:\n",
            "[1] Standard Errors assume that the covariance matrix of the errors is correctly specified.\n",
            "                                 OLS Regression Results                                \n",
            "=======================================================================================\n",
            "Dep. Variable:                  Sales   R-squared (uncentered):                   0.969\n",
            "Model:                            OLS   Adj. R-squared (uncentered):              0.969\n",
            "Method:                 Least Squares   F-statistic:                              2491.\n",
            "Date:                Tue, 07 Dec 2021   Prob (F-statistic):                   4.22e-296\n",
            "Time:                        07:47:04   Log-Likelihood:                         -703.38\n",
            "No. Observations:                 400   AIC:                                      1417.\n",
            "Df Residuals:                     395   BIC:                                      1437.\n",
            "Df Model:                           5                                                  \n",
            "Covariance Type:            nonrobust                                                  \n",
            "====================================================================================\n",
            "                       coef    std err          t      P>|t|      [0.025      0.975]\n",
            "------------------------------------------------------------------------------------\n",
            "CompPrice            0.1223      0.004     34.141      0.000       0.115       0.129\n",
            "Price               -0.0935      0.004    -25.289      0.000      -0.101      -0.086\n",
            "ShelveLoc_Good       4.8935      0.210     23.353      0.000       4.482       5.305\n",
            "Advertising          0.1296      0.011     12.244      0.000       0.109       0.150\n",
            "ShelveLoc_Medium     1.9636      0.171     11.514      0.000       1.628       2.299\n",
            "==============================================================================\n",
            "Omnibus:                        2.683   Durbin-Watson:                   2.262\n",
            "Prob(Omnibus):                  0.261   Jarque-Bera (JB):                2.455\n",
            "Skew:                           0.182   Prob(JB):                        0.293\n",
            "Kurtosis:                       3.119   Cond. No.                         587.\n",
            "==============================================================================\n",
            "\n",
            "Warnings:\n",
            "[1] Standard Errors assume that the covariance matrix of the errors is correctly specified.\n",
            "                                 OLS Regression Results                                \n",
            "=======================================================================================\n",
            "Dep. Variable:                  Sales   R-squared (uncentered):                   0.974\n",
            "Model:                            OLS   Adj. R-squared (uncentered):              0.974\n",
            "Method:                 Least Squares   F-statistic:                              2504.\n",
            "Date:                Tue, 07 Dec 2021   Prob (F-statistic):                   3.37e-310\n",
            "Time:                        07:47:04   Log-Likelihood:                         -666.40\n",
            "No. Observations:                 400   AIC:                                      1345.\n",
            "Df Residuals:                     394   BIC:                                      1369.\n",
            "Df Model:                           6                                                  \n",
            "Covariance Type:            nonrobust                                                  \n",
            "====================================================================================\n",
            "                       coef    std err          t      P>|t|      [0.025      0.975]\n",
            "------------------------------------------------------------------------------------\n",
            "CompPrice            0.1119      0.003     32.239      0.000       0.105       0.119\n",
            "Price               -0.0931      0.003    -27.594      0.000      -0.100      -0.086\n",
            "ShelveLoc_Good       4.9032      0.191     25.634      0.000       4.527       5.279\n",
            "Advertising          0.1205      0.010     12.401      0.000       0.101       0.140\n",
            "ShelveLoc_Medium     1.9721      0.156     12.668      0.000       1.666       2.278\n",
            "Income               0.0195      0.002      8.946      0.000       0.015       0.024\n",
            "==============================================================================\n",
            "Omnibus:                        0.693   Durbin-Watson:                   2.171\n",
            "Prob(Omnibus):                  0.707   Jarque-Bera (JB):                0.479\n",
            "Skew:                           0.002   Prob(JB):                        0.787\n",
            "Kurtosis:                       3.169   Cond. No.                         632.\n",
            "==============================================================================\n",
            "\n",
            "Warnings:\n",
            "[1] Standard Errors assume that the covariance matrix of the errors is correctly specified.\n",
            "                                 OLS Regression Results                                \n",
            "=======================================================================================\n",
            "Dep. Variable:                  Sales   R-squared (uncentered):                   0.979\n",
            "Model:                            OLS   Adj. R-squared (uncentered):              0.979\n",
            "Method:                 Least Squares   F-statistic:                              2664.\n",
            "Date:                Tue, 07 Dec 2021   Prob (F-statistic):                        0.00\n",
            "Time:                        07:47:04   Log-Likelihood:                         -623.69\n",
            "No. Observations:                 400   AIC:                                      1261.\n",
            "Df Residuals:                     393   BIC:                                      1289.\n",
            "Df Model:                           7                                                  \n",
            "Covariance Type:            nonrobust                                                  \n",
            "====================================================================================\n",
            "                       coef    std err          t      P>|t|      [0.025      0.975]\n",
            "------------------------------------------------------------------------------------\n",
            "CompPrice            0.1238      0.003     36.879      0.000       0.117       0.130\n",
            "Price               -0.0944      0.003    -31.063      0.000      -0.100      -0.088\n",
            "ShelveLoc_Good       5.0206      0.173     29.096      0.000       4.681       5.360\n",
            "Advertising          0.1240      0.009     14.171      0.000       0.107       0.141\n",
            "ShelveLoc_Medium     2.1481      0.141     15.206      0.000       1.870       2.426\n",
            "Income               0.0223      0.002     11.242      0.000       0.018       0.026\n",
            "Age                 -0.0318      0.003     -9.673      0.000      -0.038      -0.025\n",
            "==============================================================================\n",
            "Omnibus:                        0.491   Durbin-Watson:                   2.096\n",
            "Prob(Omnibus):                  0.782   Jarque-Bera (JB):                0.428\n",
            "Skew:                           0.080   Prob(JB):                        0.808\n",
            "Kurtosis:                       3.013   Cond. No.                         660.\n",
            "==============================================================================\n",
            "\n",
            "Warnings:\n",
            "[1] Standard Errors assume that the covariance matrix of the errors is correctly specified.\n",
            "                            OLS Regression Results                            \n",
            "==============================================================================\n",
            "Dep. Variable:                  Sales   R-squared:                       0.872\n",
            "Model:                            OLS   Adj. R-squared:                  0.870\n",
            "Method:                 Least Squares   F-statistic:                     381.4\n",
            "Date:                Tue, 07 Dec 2021   Prob (F-statistic):          1.25e-170\n",
            "Time:                        07:47:04   Log-Likelihood:                -571.24\n",
            "No. Observations:                 400   AIC:                             1158.\n",
            "Df Residuals:                     392   BIC:                             1190.\n",
            "Df Model:                           7                                         \n",
            "Covariance Type:            nonrobust                                         \n",
            "====================================================================================\n",
            "                       coef    std err          t      P>|t|      [0.025      0.975]\n",
            "------------------------------------------------------------------------------------\n",
            "CompPrice            0.0926      0.004     22.451      0.000       0.084       0.101\n",
            "Price               -0.0953      0.003    -35.699      0.000      -0.101      -0.090\n",
            "ShelveLoc_Good      10.3109      0.511     20.180      0.000       9.306      11.315\n",
            "Advertising          0.1159      0.008     15.006      0.000       0.101       0.131\n",
            "ShelveLoc_Medium     7.4272      0.502     14.781      0.000       6.439       8.415\n",
            "Income               0.0158      0.002      8.590      0.000       0.012       0.019\n",
            "Age                 -0.0461      0.003    -14.521      0.000      -0.052      -0.040\n",
            "ShelveLoc_Bad        5.4752      0.505     10.842      0.000       4.482       6.468\n",
            "==============================================================================\n",
            "Omnibus:                        0.766   Durbin-Watson:                   1.988\n",
            "Prob(Omnibus):                  0.682   Jarque-Bera (JB):                0.810\n",
            "Skew:                           0.104   Prob(JB):                        0.667\n",
            "Kurtosis:                       2.929   Cond. No.                     3.28e+03\n",
            "==============================================================================\n",
            "\n",
            "Warnings:\n",
            "[1] Standard Errors assume that the covariance matrix of the errors is correctly specified.\n",
            "[2] The condition number is large, 3.28e+03. This might indicate that there are\n",
            "strong multicollinearity or other numerical problems.\n"
          ]
        }
      ]
    },
    {
      "cell_type": "markdown",
      "metadata": {
        "id": "xj5fRqscrgdC"
      },
      "source": [
        "Above code compares the performance between 1 variable to 8 variable model selection using forward selection. We can see that all models perform very well by looking at the r-squared figure(i.e. 1 variable has an r-squared of 86.8%).\n",
        "\n",
        "The change in variables gives us a better accuracy for the first 5 models however introducing a 6th/7th variable only increases the accuracy slighlty.\n",
        "\n",
        "Using forward selection for OLS: \n",
        "1 Variable - 86.8% of the Sales variation is explained by the *CompPrice* feature.\n",
        "2 Variable - 91.1%% of the Sales variation is explained by the *CompPrice* & *Price* feature features.\n",
        "3 Variable - 94.6% of the Sales variation is explained by introducing the *ShlevLoc_Good* feature.\n",
        "with all p-values being 0 for both features.\n",
        "\n",
        "Let's see how the models stack up against backward selection:"
      ]
    },
    {
      "cell_type": "code",
      "metadata": {
        "id": "GoB8SO_YaAm5"
      },
      "source": [
        "#Backward Selection\n",
        "def backward(predictors):\n",
        "    \n",
        "    tic = time.time()\n",
        "    \n",
        "    results = []\n",
        "    \n",
        "    for combo in itertools.combinations(predictors, len(predictors)-1):\n",
        "        print(combo)\n",
        "        results.append(processSubset(combo))\n",
        "    \n",
        "    # Wrap everything up in a nice dataframe\n",
        "    models = pd.DataFrame(results)\n",
        "    \n",
        "    # Choose the model with the highest RSS\n",
        "    best_model = models.loc[models['RSS'].argmin()]\n",
        "    \n",
        "    toc = time.time()\n",
        "    print(\"Processed \", models.shape[0], \"models on\", len(predictors)-1, \"predictors in\", (toc-tic), \"seconds.\")\n",
        "    \n",
        "    # Return the best model, along with some other useful information about the model\n",
        "    return best_model"
      ],
      "execution_count": 14,
      "outputs": []
    },
    {
      "cell_type": "code",
      "metadata": {
        "id": "EaWC6Q-SaJ7l",
        "colab": {
          "base_uri": "https://localhost:8080/"
        },
        "outputId": "31a2b48d-aad8-43c4-97ee-06ba72b4b1b2"
      },
      "source": [
        "models_bwd = pd.DataFrame(columns=[\"RSS\", \"model\"], index = range(1,len(X.columns)))\n",
        "\n",
        "tic = time.time()\n",
        "predictors = X.columns\n",
        "\n",
        "while(len(predictors) > 1):  \n",
        "    models_bwd.loc[len(predictors)-1] = backward(predictors)\n",
        "    predictors = models_bwd.loc[len(predictors)-1][\"model\"].model.exog_names\n",
        "\n",
        "toc = time.time()\n",
        "print(\"Total elapsed time:\", (toc-tic), \"seconds.\")"
      ],
      "execution_count": 15,
      "outputs": [
        {
          "output_type": "stream",
          "name": "stdout",
          "text": [
            "('CompPrice', 'Income', 'Advertising', 'Population', 'Price', 'Age', 'Education', 'ShelveLoc_Bad', 'ShelveLoc_Good', 'ShelveLoc_Medium', 'Urban_No', 'Urban_Yes', 'US_No')\n",
            "('CompPrice', 'Income', 'Advertising', 'Population', 'Price', 'Age', 'Education', 'ShelveLoc_Bad', 'ShelveLoc_Good', 'ShelveLoc_Medium', 'Urban_No', 'Urban_Yes', 'US_Yes')\n",
            "('CompPrice', 'Income', 'Advertising', 'Population', 'Price', 'Age', 'Education', 'ShelveLoc_Bad', 'ShelveLoc_Good', 'ShelveLoc_Medium', 'Urban_No', 'US_No', 'US_Yes')\n",
            "('CompPrice', 'Income', 'Advertising', 'Population', 'Price', 'Age', 'Education', 'ShelveLoc_Bad', 'ShelveLoc_Good', 'ShelveLoc_Medium', 'Urban_Yes', 'US_No', 'US_Yes')\n",
            "('CompPrice', 'Income', 'Advertising', 'Population', 'Price', 'Age', 'Education', 'ShelveLoc_Bad', 'ShelveLoc_Good', 'Urban_No', 'Urban_Yes', 'US_No', 'US_Yes')\n",
            "('CompPrice', 'Income', 'Advertising', 'Population', 'Price', 'Age', 'Education', 'ShelveLoc_Bad', 'ShelveLoc_Medium', 'Urban_No', 'Urban_Yes', 'US_No', 'US_Yes')\n",
            "('CompPrice', 'Income', 'Advertising', 'Population', 'Price', 'Age', 'Education', 'ShelveLoc_Good', 'ShelveLoc_Medium', 'Urban_No', 'Urban_Yes', 'US_No', 'US_Yes')\n",
            "('CompPrice', 'Income', 'Advertising', 'Population', 'Price', 'Age', 'ShelveLoc_Bad', 'ShelveLoc_Good', 'ShelveLoc_Medium', 'Urban_No', 'Urban_Yes', 'US_No', 'US_Yes')\n",
            "('CompPrice', 'Income', 'Advertising', 'Population', 'Price', 'Education', 'ShelveLoc_Bad', 'ShelveLoc_Good', 'ShelveLoc_Medium', 'Urban_No', 'Urban_Yes', 'US_No', 'US_Yes')\n",
            "('CompPrice', 'Income', 'Advertising', 'Population', 'Age', 'Education', 'ShelveLoc_Bad', 'ShelveLoc_Good', 'ShelveLoc_Medium', 'Urban_No', 'Urban_Yes', 'US_No', 'US_Yes')\n",
            "('CompPrice', 'Income', 'Advertising', 'Price', 'Age', 'Education', 'ShelveLoc_Bad', 'ShelveLoc_Good', 'ShelveLoc_Medium', 'Urban_No', 'Urban_Yes', 'US_No', 'US_Yes')\n",
            "('CompPrice', 'Income', 'Population', 'Price', 'Age', 'Education', 'ShelveLoc_Bad', 'ShelveLoc_Good', 'ShelveLoc_Medium', 'Urban_No', 'Urban_Yes', 'US_No', 'US_Yes')\n",
            "('CompPrice', 'Advertising', 'Population', 'Price', 'Age', 'Education', 'ShelveLoc_Bad', 'ShelveLoc_Good', 'ShelveLoc_Medium', 'Urban_No', 'Urban_Yes', 'US_No', 'US_Yes')\n",
            "('Income', 'Advertising', 'Population', 'Price', 'Age', 'Education', 'ShelveLoc_Bad', 'ShelveLoc_Good', 'ShelveLoc_Medium', 'Urban_No', 'Urban_Yes', 'US_No', 'US_Yes')\n",
            "Processed  14 models on 13 predictors in 0.0653843879699707 seconds.\n",
            "('CompPrice', 'Income', 'Advertising', 'Population', 'Price', 'Age', 'Education', 'ShelveLoc_Bad', 'ShelveLoc_Good', 'ShelveLoc_Medium', 'Urban_No', 'Urban_Yes')\n",
            "('CompPrice', 'Income', 'Advertising', 'Population', 'Price', 'Age', 'Education', 'ShelveLoc_Bad', 'ShelveLoc_Good', 'ShelveLoc_Medium', 'Urban_No', 'US_No')\n",
            "('CompPrice', 'Income', 'Advertising', 'Population', 'Price', 'Age', 'Education', 'ShelveLoc_Bad', 'ShelveLoc_Good', 'ShelveLoc_Medium', 'Urban_Yes', 'US_No')\n",
            "('CompPrice', 'Income', 'Advertising', 'Population', 'Price', 'Age', 'Education', 'ShelveLoc_Bad', 'ShelveLoc_Good', 'Urban_No', 'Urban_Yes', 'US_No')\n",
            "('CompPrice', 'Income', 'Advertising', 'Population', 'Price', 'Age', 'Education', 'ShelveLoc_Bad', 'ShelveLoc_Medium', 'Urban_No', 'Urban_Yes', 'US_No')\n",
            "('CompPrice', 'Income', 'Advertising', 'Population', 'Price', 'Age', 'Education', 'ShelveLoc_Good', 'ShelveLoc_Medium', 'Urban_No', 'Urban_Yes', 'US_No')\n",
            "('CompPrice', 'Income', 'Advertising', 'Population', 'Price', 'Age', 'ShelveLoc_Bad', 'ShelveLoc_Good', 'ShelveLoc_Medium', 'Urban_No', 'Urban_Yes', 'US_No')\n",
            "('CompPrice', 'Income', 'Advertising', 'Population', 'Price', 'Education', 'ShelveLoc_Bad', 'ShelveLoc_Good', 'ShelveLoc_Medium', 'Urban_No', 'Urban_Yes', 'US_No')\n",
            "('CompPrice', 'Income', 'Advertising', 'Population', 'Age', 'Education', 'ShelveLoc_Bad', 'ShelveLoc_Good', 'ShelveLoc_Medium', 'Urban_No', 'Urban_Yes', 'US_No')\n",
            "('CompPrice', 'Income', 'Advertising', 'Price', 'Age', 'Education', 'ShelveLoc_Bad', 'ShelveLoc_Good', 'ShelveLoc_Medium', 'Urban_No', 'Urban_Yes', 'US_No')\n",
            "('CompPrice', 'Income', 'Population', 'Price', 'Age', 'Education', 'ShelveLoc_Bad', 'ShelveLoc_Good', 'ShelveLoc_Medium', 'Urban_No', 'Urban_Yes', 'US_No')\n",
            "('CompPrice', 'Advertising', 'Population', 'Price', 'Age', 'Education', 'ShelveLoc_Bad', 'ShelveLoc_Good', 'ShelveLoc_Medium', 'Urban_No', 'Urban_Yes', 'US_No')\n",
            "('Income', 'Advertising', 'Population', 'Price', 'Age', 'Education', 'ShelveLoc_Bad', 'ShelveLoc_Good', 'ShelveLoc_Medium', 'Urban_No', 'Urban_Yes', 'US_No')\n",
            "Processed  13 models on 12 predictors in 0.09103965759277344 seconds.\n",
            "('CompPrice', 'Income', 'Advertising', 'Population', 'Price', 'Age', 'Education', 'ShelveLoc_Bad', 'ShelveLoc_Medium', 'Urban_No', 'Urban_Yes')\n",
            "('CompPrice', 'Income', 'Advertising', 'Population', 'Price', 'Age', 'Education', 'ShelveLoc_Bad', 'ShelveLoc_Medium', 'Urban_No', 'US_No')\n",
            "('CompPrice', 'Income', 'Advertising', 'Population', 'Price', 'Age', 'Education', 'ShelveLoc_Bad', 'ShelveLoc_Medium', 'Urban_Yes', 'US_No')\n",
            "('CompPrice', 'Income', 'Advertising', 'Population', 'Price', 'Age', 'Education', 'ShelveLoc_Bad', 'Urban_No', 'Urban_Yes', 'US_No')\n",
            "('CompPrice', 'Income', 'Advertising', 'Population', 'Price', 'Age', 'Education', 'ShelveLoc_Medium', 'Urban_No', 'Urban_Yes', 'US_No')\n",
            "('CompPrice', 'Income', 'Advertising', 'Population', 'Price', 'Age', 'ShelveLoc_Bad', 'ShelveLoc_Medium', 'Urban_No', 'Urban_Yes', 'US_No')\n",
            "('CompPrice', 'Income', 'Advertising', 'Population', 'Price', 'Education', 'ShelveLoc_Bad', 'ShelveLoc_Medium', 'Urban_No', 'Urban_Yes', 'US_No')\n",
            "('CompPrice', 'Income', 'Advertising', 'Population', 'Age', 'Education', 'ShelveLoc_Bad', 'ShelveLoc_Medium', 'Urban_No', 'Urban_Yes', 'US_No')\n",
            "('CompPrice', 'Income', 'Advertising', 'Price', 'Age', 'Education', 'ShelveLoc_Bad', 'ShelveLoc_Medium', 'Urban_No', 'Urban_Yes', 'US_No')\n",
            "('CompPrice', 'Income', 'Population', 'Price', 'Age', 'Education', 'ShelveLoc_Bad', 'ShelveLoc_Medium', 'Urban_No', 'Urban_Yes', 'US_No')\n",
            "('CompPrice', 'Advertising', 'Population', 'Price', 'Age', 'Education', 'ShelveLoc_Bad', 'ShelveLoc_Medium', 'Urban_No', 'Urban_Yes', 'US_No')\n",
            "('Income', 'Advertising', 'Population', 'Price', 'Age', 'Education', 'ShelveLoc_Bad', 'ShelveLoc_Medium', 'Urban_No', 'Urban_Yes', 'US_No')\n",
            "Processed  12 models on 11 predictors in 0.08099770545959473 seconds.\n",
            "('CompPrice', 'Income', 'Advertising', 'Price', 'Age', 'Education', 'ShelveLoc_Bad', 'ShelveLoc_Medium', 'Urban_No', 'Urban_Yes')\n",
            "('CompPrice', 'Income', 'Advertising', 'Price', 'Age', 'Education', 'ShelveLoc_Bad', 'ShelveLoc_Medium', 'Urban_No', 'US_No')\n",
            "('CompPrice', 'Income', 'Advertising', 'Price', 'Age', 'Education', 'ShelveLoc_Bad', 'ShelveLoc_Medium', 'Urban_Yes', 'US_No')\n",
            "('CompPrice', 'Income', 'Advertising', 'Price', 'Age', 'Education', 'ShelveLoc_Bad', 'Urban_No', 'Urban_Yes', 'US_No')\n",
            "('CompPrice', 'Income', 'Advertising', 'Price', 'Age', 'Education', 'ShelveLoc_Medium', 'Urban_No', 'Urban_Yes', 'US_No')\n",
            "('CompPrice', 'Income', 'Advertising', 'Price', 'Age', 'ShelveLoc_Bad', 'ShelveLoc_Medium', 'Urban_No', 'Urban_Yes', 'US_No')\n",
            "('CompPrice', 'Income', 'Advertising', 'Price', 'Education', 'ShelveLoc_Bad', 'ShelveLoc_Medium', 'Urban_No', 'Urban_Yes', 'US_No')\n",
            "('CompPrice', 'Income', 'Advertising', 'Age', 'Education', 'ShelveLoc_Bad', 'ShelveLoc_Medium', 'Urban_No', 'Urban_Yes', 'US_No')\n",
            "('CompPrice', 'Income', 'Price', 'Age', 'Education', 'ShelveLoc_Bad', 'ShelveLoc_Medium', 'Urban_No', 'Urban_Yes', 'US_No')\n",
            "('CompPrice', 'Advertising', 'Price', 'Age', 'Education', 'ShelveLoc_Bad', 'ShelveLoc_Medium', 'Urban_No', 'Urban_Yes', 'US_No')\n",
            "('Income', 'Advertising', 'Price', 'Age', 'Education', 'ShelveLoc_Bad', 'ShelveLoc_Medium', 'Urban_No', 'Urban_Yes', 'US_No')\n",
            "Processed  11 models on 10 predictors in 0.07855844497680664 seconds.\n",
            "('CompPrice', 'Income', 'Advertising', 'Price', 'Age', 'ShelveLoc_Bad', 'ShelveLoc_Medium', 'Urban_No', 'Urban_Yes')\n",
            "('CompPrice', 'Income', 'Advertising', 'Price', 'Age', 'ShelveLoc_Bad', 'ShelveLoc_Medium', 'Urban_No', 'US_No')\n",
            "('CompPrice', 'Income', 'Advertising', 'Price', 'Age', 'ShelveLoc_Bad', 'ShelveLoc_Medium', 'Urban_Yes', 'US_No')\n",
            "('CompPrice', 'Income', 'Advertising', 'Price', 'Age', 'ShelveLoc_Bad', 'Urban_No', 'Urban_Yes', 'US_No')\n",
            "('CompPrice', 'Income', 'Advertising', 'Price', 'Age', 'ShelveLoc_Medium', 'Urban_No', 'Urban_Yes', 'US_No')\n",
            "('CompPrice', 'Income', 'Advertising', 'Price', 'ShelveLoc_Bad', 'ShelveLoc_Medium', 'Urban_No', 'Urban_Yes', 'US_No')\n",
            "('CompPrice', 'Income', 'Advertising', 'Age', 'ShelveLoc_Bad', 'ShelveLoc_Medium', 'Urban_No', 'Urban_Yes', 'US_No')\n",
            "('CompPrice', 'Income', 'Price', 'Age', 'ShelveLoc_Bad', 'ShelveLoc_Medium', 'Urban_No', 'Urban_Yes', 'US_No')\n",
            "('CompPrice', 'Advertising', 'Price', 'Age', 'ShelveLoc_Bad', 'ShelveLoc_Medium', 'Urban_No', 'Urban_Yes', 'US_No')\n",
            "('Income', 'Advertising', 'Price', 'Age', 'ShelveLoc_Bad', 'ShelveLoc_Medium', 'Urban_No', 'Urban_Yes', 'US_No')\n",
            "Processed  10 models on 9 predictors in 0.07084107398986816 seconds.\n",
            "('CompPrice', 'Income', 'Advertising', 'Price', 'Age', 'ShelveLoc_Bad', 'ShelveLoc_Medium', 'Urban_No')\n",
            "('CompPrice', 'Income', 'Advertising', 'Price', 'Age', 'ShelveLoc_Bad', 'ShelveLoc_Medium', 'Urban_Yes')\n",
            "('CompPrice', 'Income', 'Advertising', 'Price', 'Age', 'ShelveLoc_Bad', 'Urban_No', 'Urban_Yes')\n",
            "('CompPrice', 'Income', 'Advertising', 'Price', 'Age', 'ShelveLoc_Medium', 'Urban_No', 'Urban_Yes')\n",
            "('CompPrice', 'Income', 'Advertising', 'Price', 'ShelveLoc_Bad', 'ShelveLoc_Medium', 'Urban_No', 'Urban_Yes')\n",
            "('CompPrice', 'Income', 'Advertising', 'Age', 'ShelveLoc_Bad', 'ShelveLoc_Medium', 'Urban_No', 'Urban_Yes')\n",
            "('CompPrice', 'Income', 'Price', 'Age', 'ShelveLoc_Bad', 'ShelveLoc_Medium', 'Urban_No', 'Urban_Yes')\n",
            "('CompPrice', 'Advertising', 'Price', 'Age', 'ShelveLoc_Bad', 'ShelveLoc_Medium', 'Urban_No', 'Urban_Yes')\n",
            "('Income', 'Advertising', 'Price', 'Age', 'ShelveLoc_Bad', 'ShelveLoc_Medium', 'Urban_No', 'Urban_Yes')\n",
            "Processed  9 models on 8 predictors in 0.057814836502075195 seconds.\n",
            "('CompPrice', 'Advertising', 'Price', 'Age', 'ShelveLoc_Bad', 'ShelveLoc_Medium', 'Urban_No')\n",
            "('CompPrice', 'Advertising', 'Price', 'Age', 'ShelveLoc_Bad', 'ShelveLoc_Medium', 'Urban_Yes')\n",
            "('CompPrice', 'Advertising', 'Price', 'Age', 'ShelveLoc_Bad', 'Urban_No', 'Urban_Yes')\n",
            "('CompPrice', 'Advertising', 'Price', 'Age', 'ShelveLoc_Medium', 'Urban_No', 'Urban_Yes')\n",
            "('CompPrice', 'Advertising', 'Price', 'ShelveLoc_Bad', 'ShelveLoc_Medium', 'Urban_No', 'Urban_Yes')\n",
            "('CompPrice', 'Advertising', 'Age', 'ShelveLoc_Bad', 'ShelveLoc_Medium', 'Urban_No', 'Urban_Yes')\n",
            "('CompPrice', 'Price', 'Age', 'ShelveLoc_Bad', 'ShelveLoc_Medium', 'Urban_No', 'Urban_Yes')\n",
            "('Advertising', 'Price', 'Age', 'ShelveLoc_Bad', 'ShelveLoc_Medium', 'Urban_No', 'Urban_Yes')\n",
            "Processed  8 models on 7 predictors in 0.0592808723449707 seconds.\n",
            "('CompPrice', 'Advertising', 'Price', 'ShelveLoc_Bad', 'ShelveLoc_Medium', 'Urban_No')\n",
            "('CompPrice', 'Advertising', 'Price', 'ShelveLoc_Bad', 'ShelveLoc_Medium', 'Urban_Yes')\n",
            "('CompPrice', 'Advertising', 'Price', 'ShelveLoc_Bad', 'Urban_No', 'Urban_Yes')\n",
            "('CompPrice', 'Advertising', 'Price', 'ShelveLoc_Medium', 'Urban_No', 'Urban_Yes')\n",
            "('CompPrice', 'Advertising', 'ShelveLoc_Bad', 'ShelveLoc_Medium', 'Urban_No', 'Urban_Yes')\n",
            "('CompPrice', 'Price', 'ShelveLoc_Bad', 'ShelveLoc_Medium', 'Urban_No', 'Urban_Yes')\n",
            "('Advertising', 'Price', 'ShelveLoc_Bad', 'ShelveLoc_Medium', 'Urban_No', 'Urban_Yes')\n",
            "Processed  7 models on 6 predictors in 0.03257155418395996 seconds.\n",
            "('CompPrice', 'Price', 'ShelveLoc_Bad', 'ShelveLoc_Medium', 'Urban_No')\n",
            "('CompPrice', 'Price', 'ShelveLoc_Bad', 'ShelveLoc_Medium', 'Urban_Yes')\n",
            "('CompPrice', 'Price', 'ShelveLoc_Bad', 'Urban_No', 'Urban_Yes')\n",
            "('CompPrice', 'Price', 'ShelveLoc_Medium', 'Urban_No', 'Urban_Yes')\n",
            "('CompPrice', 'ShelveLoc_Bad', 'ShelveLoc_Medium', 'Urban_No', 'Urban_Yes')\n",
            "('Price', 'ShelveLoc_Bad', 'ShelveLoc_Medium', 'Urban_No', 'Urban_Yes')\n",
            "Processed  6 models on 5 predictors in 0.030368566513061523 seconds.\n",
            "('Price', 'ShelveLoc_Bad', 'ShelveLoc_Medium', 'Urban_No')\n",
            "('Price', 'ShelveLoc_Bad', 'ShelveLoc_Medium', 'Urban_Yes')\n",
            "('Price', 'ShelveLoc_Bad', 'Urban_No', 'Urban_Yes')\n",
            "('Price', 'ShelveLoc_Medium', 'Urban_No', 'Urban_Yes')\n",
            "('ShelveLoc_Bad', 'ShelveLoc_Medium', 'Urban_No', 'Urban_Yes')\n",
            "Processed  5 models on 4 predictors in 0.038021087646484375 seconds.\n",
            "('Price', 'ShelveLoc_Bad', 'Urban_No')\n",
            "('Price', 'ShelveLoc_Bad', 'Urban_Yes')\n",
            "('Price', 'Urban_No', 'Urban_Yes')\n",
            "('ShelveLoc_Bad', 'Urban_No', 'Urban_Yes')\n",
            "Processed  4 models on 3 predictors in 0.026041030883789062 seconds.\n",
            "('Price', 'Urban_No')\n",
            "('Price', 'Urban_Yes')\n",
            "('Urban_No', 'Urban_Yes')\n",
            "Processed  3 models on 2 predictors in 0.014867305755615234 seconds.\n",
            "('Urban_No',)\n",
            "('Urban_Yes',)\n",
            "Processed  2 models on 1 predictors in 0.008099794387817383 seconds.\n",
            "Total elapsed time: 0.6872661113739014 seconds.\n"
          ]
        }
      ]
    },
    {
      "cell_type": "markdown",
      "metadata": {
        "id": "aEJtyN48adFg"
      },
      "source": [
        "For this data, the best one-variable through nine-variable\n",
        "models are very different for forward selection and backward, as seen from above. Backward selection shows that Urban_No/Urban_Yes are the best one variable predictors. Lets see how they perform against one another."
      ]
    },
    {
      "cell_type": "code",
      "metadata": {
        "id": "wHJrw1GSaO6u",
        "colab": {
          "base_uri": "https://localhost:8080/"
        },
        "outputId": "b316f9c3-d90a-4600-a293-8db43e4d47aa"
      },
      "source": [
        "print(models_bwd.loc[1, \"model\"].summary())\n",
        "print(models_fwd.loc[1, \"model\"].summary())"
      ],
      "execution_count": 16,
      "outputs": [
        {
          "output_type": "stream",
          "name": "stdout",
          "text": [
            "                                 OLS Regression Results                                \n",
            "=======================================================================================\n",
            "Dep. Variable:                  Sales   R-squared (uncentered):                   0.613\n",
            "Model:                            OLS   Adj. R-squared (uncentered):              0.612\n",
            "Method:                 Least Squares   F-statistic:                              631.9\n",
            "Date:                Tue, 07 Dec 2021   Prob (F-statistic):                    2.94e-84\n",
            "Time:                        07:47:05   Log-Likelihood:                         -1210.0\n",
            "No. Observations:                 400   AIC:                                      2422.\n",
            "Df Residuals:                     399   BIC:                                      2426.\n",
            "Df Model:                           1                                                  \n",
            "Covariance Type:            nonrobust                                                  \n",
            "==============================================================================\n",
            "                 coef    std err          t      P>|t|      [0.025      0.975]\n",
            "------------------------------------------------------------------------------\n",
            "Urban_Yes      7.4682      0.297     25.137      0.000       6.884       8.052\n",
            "==============================================================================\n",
            "Omnibus:                       22.775   Durbin-Watson:                   1.455\n",
            "Prob(Omnibus):                  0.000   Jarque-Bera (JB):               19.040\n",
            "Skew:                           0.453   Prob(JB):                     7.34e-05\n",
            "Kurtosis:                       2.433   Cond. No.                         1.00\n",
            "==============================================================================\n",
            "\n",
            "Warnings:\n",
            "[1] Standard Errors assume that the covariance matrix of the errors is correctly specified.\n",
            "                                 OLS Regression Results                                \n",
            "=======================================================================================\n",
            "Dep. Variable:                  Sales   R-squared (uncentered):                   0.868\n",
            "Model:                            OLS   Adj. R-squared (uncentered):              0.868\n",
            "Method:                 Least Squares   F-statistic:                              2627.\n",
            "Date:                Tue, 07 Dec 2021   Prob (F-statistic):                   1.26e-177\n",
            "Time:                        07:47:05   Log-Likelihood:                         -994.63\n",
            "No. Observations:                 400   AIC:                                      1991.\n",
            "Df Residuals:                     399   BIC:                                      1995.\n",
            "Df Model:                           1                                                  \n",
            "Covariance Type:            nonrobust                                                  \n",
            "==============================================================================\n",
            "                 coef    std err          t      P>|t|      [0.025      0.975]\n",
            "------------------------------------------------------------------------------\n",
            "CompPrice      0.0593      0.001     51.252      0.000       0.057       0.062\n",
            "==============================================================================\n",
            "Omnibus:                        3.220   Durbin-Watson:                   1.958\n",
            "Prob(Omnibus):                  0.200   Jarque-Bera (JB):                3.285\n",
            "Skew:                           0.215   Prob(JB):                        0.194\n",
            "Kurtosis:                       2.886   Cond. No.                         1.00\n",
            "==============================================================================\n",
            "\n",
            "Warnings:\n",
            "[1] Standard Errors assume that the covariance matrix of the errors is correctly specified.\n"
          ]
        }
      ]
    },
    {
      "cell_type": "markdown",
      "metadata": {
        "id": "7G2yZ6DiJe3D"
      },
      "source": [
        "As we can see Backward selection is giving us an variance ecplanation of 61.3%\n",
        "Whilst forward selection gives us 86.8%. Therefore we should use forward selection as it gives us much better accuracy."
      ]
    },
    {
      "cell_type": "code",
      "metadata": {
        "id": "Sip3xmGTYNoI",
        "colab": {
          "base_uri": "https://localhost:8080/"
        },
        "outputId": "ecc762c3-f4e8-4b51-df26-81786cd6d6f1"
      },
      "source": [
        "print(models_bwd.loc[5, \"model\"].summary())\n",
        "print(models_fwd.loc[5, \"model\"].summary())"
      ],
      "execution_count": 17,
      "outputs": [
        {
          "output_type": "stream",
          "name": "stdout",
          "text": [
            "                            OLS Regression Results                            \n",
            "==============================================================================\n",
            "Dep. Variable:                  Sales   R-squared:                       0.545\n",
            "Model:                            OLS   Adj. R-squared:                  0.540\n",
            "Method:                 Least Squares   F-statistic:                     118.2\n",
            "Date:                Tue, 07 Dec 2021   Prob (F-statistic):           3.38e-66\n",
            "Time:                        07:47:05   Log-Likelihood:                -824.94\n",
            "No. Observations:                 400   AIC:                             1660.\n",
            "Df Residuals:                     395   BIC:                             1680.\n",
            "Df Model:                           4                                         \n",
            "Covariance Type:            nonrobust                                         \n",
            "====================================================================================\n",
            "                       coef    std err          t      P>|t|      [0.025      0.975]\n",
            "------------------------------------------------------------------------------------\n",
            "Price               -0.0570      0.004    -14.036      0.000      -0.065      -0.049\n",
            "ShelveLoc_Bad       -4.9263      0.286    -17.200      0.000      -5.489      -4.363\n",
            "ShelveLoc_Medium    -3.0400      0.245    -12.412      0.000      -3.522      -2.558\n",
            "Urban_No            16.7345      0.534     31.330      0.000      15.684      17.785\n",
            "Urban_Yes           17.0283      0.530     32.158      0.000      15.987      18.069\n",
            "==============================================================================\n",
            "Omnibus:                        2.355   Durbin-Watson:                   1.960\n",
            "Prob(Omnibus):                  0.308   Jarque-Bera (JB):                2.009\n",
            "Skew:                           0.054   Prob(JB):                        0.366\n",
            "Kurtosis:                       2.670   Cond. No.                         927.\n",
            "==============================================================================\n",
            "\n",
            "Warnings:\n",
            "[1] Standard Errors assume that the covariance matrix of the errors is correctly specified.\n",
            "                                 OLS Regression Results                                \n",
            "=======================================================================================\n",
            "Dep. Variable:                  Sales   R-squared (uncentered):                   0.969\n",
            "Model:                            OLS   Adj. R-squared (uncentered):              0.969\n",
            "Method:                 Least Squares   F-statistic:                              2491.\n",
            "Date:                Tue, 07 Dec 2021   Prob (F-statistic):                   4.22e-296\n",
            "Time:                        07:47:05   Log-Likelihood:                         -703.38\n",
            "No. Observations:                 400   AIC:                                      1417.\n",
            "Df Residuals:                     395   BIC:                                      1437.\n",
            "Df Model:                           5                                                  \n",
            "Covariance Type:            nonrobust                                                  \n",
            "====================================================================================\n",
            "                       coef    std err          t      P>|t|      [0.025      0.975]\n",
            "------------------------------------------------------------------------------------\n",
            "CompPrice            0.1223      0.004     34.141      0.000       0.115       0.129\n",
            "Price               -0.0935      0.004    -25.289      0.000      -0.101      -0.086\n",
            "ShelveLoc_Good       4.8935      0.210     23.353      0.000       4.482       5.305\n",
            "Advertising          0.1296      0.011     12.244      0.000       0.109       0.150\n",
            "ShelveLoc_Medium     1.9636      0.171     11.514      0.000       1.628       2.299\n",
            "==============================================================================\n",
            "Omnibus:                        2.683   Durbin-Watson:                   2.262\n",
            "Prob(Omnibus):                  0.261   Jarque-Bera (JB):                2.455\n",
            "Skew:                           0.182   Prob(JB):                        0.293\n",
            "Kurtosis:                       3.119   Cond. No.                         587.\n",
            "==============================================================================\n",
            "\n",
            "Warnings:\n",
            "[1] Standard Errors assume that the covariance matrix of the errors is correctly specified.\n"
          ]
        }
      ]
    },
    {
      "cell_type": "markdown",
      "metadata": {
        "id": "s_kU9SJJYRqn"
      },
      "source": [
        "Once again, Forward selection outperforms backward selection massively when we use a 5 variable predictor. as seen by the R-squareds (backward - 54.5% and forward - 96.9%) Solidifying our decision to use forward selection."
      ]
    },
    {
      "cell_type": "code",
      "metadata": {
        "id": "xudTAK9caiKa",
        "colab": {
          "base_uri": "https://localhost:8080/"
        },
        "outputId": "c9eaaf3f-9ec4-441b-d68d-123b44454c8f"
      },
      "source": [
        "print(\"-----------------\")\n",
        "print(\"Foward Selection:\")\n",
        "print(\"-----------------\")\n",
        "print(models_fwd.loc[13, \"model\"].params)"
      ],
      "execution_count": 18,
      "outputs": [
        {
          "output_type": "stream",
          "name": "stdout",
          "text": [
            "-----------------\n",
            "Foward Selection:\n",
            "-----------------\n",
            "CompPrice           0.092815\n",
            "Price              -0.095358\n",
            "ShelveLoc_Good      5.703993\n",
            "Advertising         0.123095\n",
            "ShelveLoc_Medium    2.810525\n",
            "Income              0.015803\n",
            "Age                -0.046045\n",
            "ShelveLoc_Bad       0.853810\n",
            "US_No               0.184093\n",
            "Education          -0.021102\n",
            "Urban_No            4.622720\n",
            "Population          0.000208\n",
            "Urban_Yes           4.745607\n",
            "dtype: float64\n"
          ]
        }
      ]
    },
    {
      "cell_type": "code",
      "metadata": {
        "id": "BbYGgkriajwJ",
        "colab": {
          "base_uri": "https://localhost:8080/"
        },
        "outputId": "bd439326-e4b6-49f1-c855-72b8f5949441"
      },
      "source": [
        "print(\"-------------------\")\n",
        "print(\"Backward Selection:\")\n",
        "print(\"-------------------\")\n",
        "print(models_bwd.loc[13, \"model\"].params)"
      ],
      "execution_count": 19,
      "outputs": [
        {
          "output_type": "stream",
          "name": "stdout",
          "text": [
            "-------------------\n",
            "Backward Selection:\n",
            "-------------------\n",
            "CompPrice           0.092815\n",
            "Income              0.015803\n",
            "Advertising         0.123095\n",
            "Population          0.000208\n",
            "Price              -0.095358\n",
            "Age                -0.046045\n",
            "Education          -0.021102\n",
            "ShelveLoc_Bad       0.853810\n",
            "ShelveLoc_Good      5.703993\n",
            "ShelveLoc_Medium    2.810525\n",
            "Urban_No            4.622720\n",
            "Urban_Yes           4.745607\n",
            "US_No               0.184093\n",
            "dtype: float64\n"
          ]
        }
      ]
    },
    {
      "cell_type": "markdown",
      "metadata": {
        "id": "W8HNCc8QbRia"
      },
      "source": [
        "#Ridge & Lasso regression"
      ]
    },
    {
      "cell_type": "code",
      "metadata": {
        "id": "KQGDeChwXODq",
        "colab": {
          "base_uri": "https://localhost:8080/"
        },
        "outputId": "4fb2959f-389c-41db-a2c5-f792a09024d0"
      },
      "source": [
        "#Ridge Regression\n",
        "print(\"Ridge Regression\")\n",
        "rr = Ridge(alpha=0.2)\n",
        "rr.fit(X_train, y_train) \n",
        "pred_train_rr= rr.predict(X_train)\n",
        "print(\"\\tRMSE training: \" + str(np.sqrt(mean_squared_error(y_train,pred_train_rr))))\n",
        "print(\"\\tR-squared training: \" + str(r2_score(y_train, pred_train_rr)))\n",
        "\n",
        "pred_test_rr= rr.predict(X_test)\n",
        "print(\"\\tRMSE testing: \" + str(np.sqrt(mean_squared_error(y_test,pred_test_rr)))) \n",
        "print(\"\\tR-squared testing: \" + str(r2_score(y_test, pred_test_rr)))"
      ],
      "execution_count": 20,
      "outputs": [
        {
          "output_type": "stream",
          "name": "stdout",
          "text": [
            "Ridge Regression\n",
            "\tRMSE training: 0.9828739080320273\n",
            "\tR-squared training: 0.8768556705811539\n",
            "\tRMSE testing: 1.107336785156661\n",
            "\tR-squared testing: 0.8522024284839407\n"
          ]
        }
      ]
    },
    {
      "cell_type": "markdown",
      "metadata": {
        "id": "9Z3HJ-j3ZZZu"
      },
      "source": [
        "Ridge is exact as accurate as Linear regression. Lets try Lasso."
      ]
    },
    {
      "cell_type": "code",
      "metadata": {
        "id": "X98qnJDvYGKe",
        "colab": {
          "base_uri": "https://localhost:8080/"
        },
        "outputId": "b76376f5-37ef-4def-d805-11c7e8a57205"
      },
      "source": [
        "#Lasso regression \n",
        "print(\"Lasso Regression\")\n",
        "model_lasso = Lasso(alpha=0.2)\n",
        "model_lasso.fit(X_train, y_train) \n",
        "pred_train_lasso= model_lasso.predict(X_train)\n",
        "print(\"\\tRMSE training: \" + str(np.sqrt(mean_squared_error(y_train,pred_train_lasso))))\n",
        "print(\"\\tR-squared training: \" + str(r2_score(y_train, pred_train_lasso)))\n",
        "\n",
        "pred_test_lasso= model_lasso.predict(X_test)\n",
        "print(\"\\tRMSE testing: \" + str(np.sqrt(mean_squared_error(y_test,pred_test_lasso))))\n",
        "print(\"\\tR-squared testing: \" + str(r2_score(y_test, pred_test_lasso)))"
      ],
      "execution_count": 21,
      "outputs": [
        {
          "output_type": "stream",
          "name": "stdout",
          "text": [
            "Lasso Regression\n",
            "\tRMSE training: 1.158600309563799\n",
            "\tR-squared training: 0.8288857862109689\n",
            "\tRMSE testing: 1.1793935496099688\n",
            "\tR-squared testing: 0.8323415911718595\n"
          ]
        }
      ]
    },
    {
      "cell_type": "markdown",
      "metadata": {
        "id": "4zDrbg2ictlL"
      },
      "source": [
        "Lasso actually worsens our performance as seen in the increase of the RMSE and decrease of the R-Squared. \n",
        "\n"
      ]
    },
    {
      "cell_type": "markdown",
      "metadata": {
        "id": "jSVlvzNebl_C"
      },
      "source": [
        "##Cross-Validation to choose tuning paramter\n"
      ]
    },
    {
      "cell_type": "code",
      "metadata": {
        "id": "hiXUa1mdbjyC",
        "colab": {
          "base_uri": "https://localhost:8080/"
        },
        "outputId": "b9c58535-3840-44e8-85d9-cd37dcd812c6"
      },
      "source": [
        "alphas = 10**np.linspace(10,-2,100) *0.5\n",
        "ridgecv = RidgeCV(alphas = alphas, scoring = 'neg_mean_squared_error', normalize = True)\n",
        "ridgecv.fit(X_train, y_train)\n",
        "ridgecv.alpha_"
      ],
      "execution_count": 22,
      "outputs": [
        {
          "output_type": "stream",
          "name": "stderr",
          "text": [
            "/usr/local/lib/python3.7/dist-packages/sklearn/linear_model/_base.py:145: FutureWarning: 'normalize' was deprecated in version 1.0 and will be removed in 1.2.\n",
            "If you wish to scale the data, use Pipeline with a StandardScaler in a preprocessing stage. To reproduce the previous behavior:\n",
            "\n",
            "from sklearn.pipeline import make_pipeline\n",
            "\n",
            "model = make_pipeline(StandardScaler(with_mean=False), _RidgeGCV())\n",
            "\n",
            "If you wish to pass a sample_weight parameter, you need to pass it as a fit parameter to each step of the pipeline as follows:\n",
            "\n",
            "kwargs = {s[0] + '__sample_weight': sample_weight for s in model.steps}\n",
            "model.fit(X, y, **kwargs)\n",
            "\n",
            "\n",
            "  FutureWarning,\n"
          ]
        },
        {
          "output_type": "execute_result",
          "data": {
            "text/plain": [
              "0.005"
            ]
          },
          "metadata": {},
          "execution_count": 22
        }
      ]
    },
    {
      "cell_type": "code",
      "metadata": {
        "id": "n_0eZuHFd63p",
        "colab": {
          "base_uri": "https://localhost:8080/"
        },
        "outputId": "fdee29bd-7c06-4db6-f8bc-ff34906b53ab"
      },
      "source": [
        "ridge1 = Ridge(alpha = ridgecv.alpha_, normalize = True)\n",
        "ridge1.fit(X_train, y_train)\n",
        "print(\"Cross Validation\")\n",
        "print(\"\\tRMSE testing: \" + str(np.sqrt(mean_squared_error(y_test, ridge1.predict(X_test)))))       # Calculate the test MSE\n",
        "print(\"\\tR-squared testing: \" + str(r2_score(y_test, ridge1.predict(X_test)))) #Calculate the test R- squared\n",
        "#This shows further improvement over the test MSE that we got using alpha = 0.2"
      ],
      "execution_count": 23,
      "outputs": [
        {
          "output_type": "stream",
          "name": "stdout",
          "text": [
            "Cross Validation\n",
            "\tRMSE testing: 1.1064355014405582\n",
            "\tR-squared testing: 0.8524429214145827\n"
          ]
        },
        {
          "output_type": "stream",
          "name": "stderr",
          "text": [
            "/usr/local/lib/python3.7/dist-packages/sklearn/linear_model/_base.py:145: FutureWarning: 'normalize' was deprecated in version 1.0 and will be removed in 1.2.\n",
            "If you wish to scale the data, use Pipeline with a StandardScaler in a preprocessing stage. To reproduce the previous behavior:\n",
            "\n",
            "from sklearn.pipeline import make_pipeline\n",
            "\n",
            "model = make_pipeline(StandardScaler(with_mean=False), Ridge())\n",
            "\n",
            "If you wish to pass a sample_weight parameter, you need to pass it as a fit parameter to each step of the pipeline as follows:\n",
            "\n",
            "kwargs = {s[0] + '__sample_weight': sample_weight for s in model.steps}\n",
            "model.fit(X, y, **kwargs)\n",
            "\n",
            "Set parameter alpha to: original_alpha * n_samples. \n",
            "  FutureWarning,\n"
          ]
        }
      ]
    },
    {
      "cell_type": "markdown",
      "metadata": {
        "id": "8shO8MD9yWMH"
      },
      "source": [
        "We see that cross validation increases performance using the optimum alpha. Lets try increase our accuracy using Elastic net."
      ]
    },
    {
      "cell_type": "markdown",
      "metadata": {
        "id": "eI6g1ovoa39t"
      },
      "source": [
        "#Elastic Net"
      ]
    },
    {
      "cell_type": "code",
      "metadata": {
        "id": "BeJ0-gBvYdgl",
        "colab": {
          "base_uri": "https://localhost:8080/"
        },
        "outputId": "4ceaf3c8-fd75-4c25-f236-fe4ca494b69e"
      },
      "source": [
        "#Elastic Net\n",
        "print(\"Elastic Net\")\n",
        "model_enet = ElasticNet(alpha = 0.2)\n",
        "model_enet.fit(X_train, y_train) \n",
        "pred_train_enet= model_enet.predict(X_train)\n",
        "print(\"\\tRMSE training: \" + str(np.sqrt(mean_squared_error(y_train,pred_train_enet))))\n",
        "print(\"\\tR-squared training: \" + str(r2_score(y_train, pred_train_enet)))\n",
        "\n",
        "pred_test_enet= model_enet.predict(X_test)\n",
        "print(\"\\tRMSE testing: \" + str(np.sqrt(mean_squared_error(y_test,pred_test_enet))))\n",
        "print(\"\\tR-squared testing: \" + str(r2_score(y_test, pred_test_enet)))\n",
        "\n",
        "#RMSE increases from the elastic net model with the R-squared decreasing. This is not what we want."
      ],
      "execution_count": 24,
      "outputs": [
        {
          "output_type": "stream",
          "name": "stdout",
          "text": [
            "Elastic Net\n",
            "\tRMSE training: 1.2244109938680543\n",
            "\tR-squared training: 0.808894473399146\n",
            "\tRMSE testing: 1.2414888598947038\n",
            "\tR-squared testing: 0.8142223360435816\n"
          ]
        }
      ]
    },
    {
      "cell_type": "markdown",
      "metadata": {
        "id": "5d45icp6JoWM"
      },
      "source": [
        "We can see that applying Elastic net does not improve our r-squared which is not what we want."
      ]
    },
    {
      "cell_type": "markdown",
      "metadata": {
        "id": "Ii7dTf0cGMSL"
      },
      "source": [
        "#K-Fold Validation"
      ]
    },
    {
      "cell_type": "code",
      "metadata": {
        "id": "7f4-5iT-yvDW",
        "colab": {
          "base_uri": "https://localhost:8080/"
        },
        "outputId": "085df185-8c63-4cc9-cabc-f990f50e6d7a"
      },
      "source": [
        "kf = KFold(n_splits=2) # Define the split - into 2 folds \n",
        "kf.get_n_splits(X) # returns the number of splitting iterations in the cross-validator\n",
        "print(kf) \n",
        "KFold(n_splits=2, random_state=None, shuffle=False)\n"
      ],
      "execution_count": 25,
      "outputs": [
        {
          "output_type": "stream",
          "name": "stdout",
          "text": [
            "KFold(n_splits=2, random_state=None, shuffle=False)\n"
          ]
        },
        {
          "output_type": "execute_result",
          "data": {
            "text/plain": [
              "KFold(n_splits=2, random_state=None, shuffle=False)"
            ]
          },
          "metadata": {},
          "execution_count": 25
        }
      ]
    },
    {
      "cell_type": "code",
      "metadata": {
        "id": "r13VPL4ByzK6",
        "colab": {
          "base_uri": "https://localhost:8080/"
        },
        "outputId": "91d2a202-fd6a-400e-9ee0-8a7f1124bced"
      },
      "source": [
        "# evaluate models using repeated k-fold cross-validation\n",
        "# prepare the repeated k fold cross-validation procedure\n",
        "cv = RepeatedKFold(n_splits=10, n_repeats=3, random_state=1)\n",
        "# create model\n",
        "lr = linear_model.LinearRegression()\n",
        "rr = linear_model.Ridge()\n",
        "model_lasso = linear_model.Lasso()\n",
        "model_enet = linear_model.ElasticNet()\n",
        "# evaluate model\n",
        "scores = cross_val_score(lr, X, y, cv=cv, n_jobs=-1)\n",
        "scores_ridge = cross_val_score(rr, X, y, cv=cv, n_jobs=-1)\n",
        "scores_lasso = cross_val_score(model_lasso, X, y, cv=cv, n_jobs=-1)\n",
        "scores_elastic = cross_val_score(model_enet, X, y, cv=cv, n_jobs=-1)\n",
        "# report performance\n",
        "print('Linear Regression Score:')\n",
        "print(mean(scores))\n",
        "print('Ridge Regression Score:')\n",
        "print(mean(scores_ridge))\n",
        "print('Lasso Score:')\n",
        "print(mean(scores_lasso))\n",
        "print('Elastic Net Score:')\n",
        "print(mean(scores_elastic))"
      ],
      "execution_count": 26,
      "outputs": [
        {
          "output_type": "stream",
          "name": "stdout",
          "text": [
            "Linear Regression Score:\n",
            "0.857965240066451\n",
            "Ridge Regression Score:\n",
            "0.8580623626820006\n",
            "Lasso Score:\n",
            "0.4996014589993844\n",
            "Elastic Net Score:\n",
            "0.5217191047570882\n"
          ]
        }
      ]
    },
    {
      "cell_type": "markdown",
      "metadata": {
        "id": "H5MuBRul2BV0"
      },
      "source": [
        "K-Fold Cross Validation is showing that out of all models, Linear or Ridge regression are showing the best accuracies with Ridge being slightly better"
      ]
    },
    {
      "cell_type": "markdown",
      "metadata": {
        "id": "UXmLDVymGpFz"
      },
      "source": [
        "#Principal Compnent Regression"
      ]
    },
    {
      "cell_type": "code",
      "metadata": {
        "id": "ZrE3zgHwIjVz",
        "colab": {
          "base_uri": "https://localhost:8080/",
          "height": 0
        },
        "outputId": "20c36dd8-0025-4758-99ed-11a1e4b3dd22"
      },
      "source": [
        "pca = PCA()\n",
        "X_reduced = pca.fit_transform(scale(X)) \n",
        "expLianedVariance=(pca.explained_variance_/pca.explained_variance_.sum())*100\n",
        "expLianedVarianceCum=expLianedVariance.cumsum()\n",
        "\n",
        "xlabel=range(1, expLianedVariance.size+1)\n",
        "xlabel=np.reshape( np.asarray(list(xlabel)), (14,))\n",
        "N_PC_sel=5\n",
        "variance_N_PC= expLianedVarianceCum[N_PC_sel-1]\n",
        "plt.figure( )\n",
        "\n",
        "plt.plot(list(xlabel),expLianedVariance, label='Comp. Variation')\n",
        "plt.plot(list(xlabel),expLianedVarianceCum, label = 'Cum. Variation', linewidth=3)\n",
        "#Vertical line at the selected no of components\n",
        "plt.axvline(x=N_PC_sel, linestyle='dashed',linewidth=.5, color='grey')\n",
        "# add apoint\n",
        "plt.plot(N_PC_sel,variance_N_PC, color='green', marker='o')\n",
        "plt.text(N_PC_sel,variance_N_PC,\"{0:.0%}\".format(variance_N_PC/100.0), horizontalalignment='right')\n",
        "\n",
        "plt.legend()\n",
        "plt.title('PCA')\n",
        "plt.xlabel('Number of principal components')\n",
        "plt.ylabel('Expalined Variation')\n",
        "plt.ylim([0,100])\n",
        "plt.xlim([0,11])"
      ],
      "execution_count": 27,
      "outputs": [
        {
          "output_type": "execute_result",
          "data": {
            "text/plain": [
              "(0.0, 11.0)"
            ]
          },
          "metadata": {},
          "execution_count": 27
        },
        {
          "output_type": "display_data",
          "data": {
            "image/png": "[encoded data removed]",
            "text/plain": [
              "<Figure size 432x288 with 1 Axes>"
            ]
          },
          "metadata": {
            "needs_background": "light"
          }
        }
      ]
    },
    {
      "cell_type": "code",
      "metadata": {
        "id": "rip55-9ZIr-Z",
        "colab": {
          "base_uri": "https://localhost:8080/",
          "height": 0
        },
        "outputId": "1ff8651c-7040-49f5-96fc-3b8eb2f594d4"
      },
      "source": [
        "#Now we'll perform 10-fold cross-validation to see how it influences the MSE:\n",
        "# 10-fold CV, with shuffle\n",
        "n = len(X_reduced)\n",
        "kf_10 = KFold( n_splits=14, shuffle=True, random_state=1)\n",
        "\n",
        "regr = LinearRegression()\n",
        "mse = []\n",
        "\n",
        "# Calculate MSE with only the intercept (no principal components in regression)\n",
        "score = -1*cross_val_score(regr, np.ones((n,1)), y.ravel(), cv=kf_10, scoring='neg_mean_squared_error').mean()    \n",
        "mse.append(score)\n",
        "\n",
        "# Calculate MSE using CV for the 10 principle components, adding one component at the time.\n",
        "for i in np.arange(1, 15):\n",
        "    score = -1*cross_val_score(regr, X_reduced[:,:i], y.ravel(), cv=kf_10, scoring='neg_mean_squared_error').mean()\n",
        "    mse.append(score)\n",
        "    \n",
        "# Plot results    \n",
        "plt.plot(mse, '-v')\n",
        "plt.xlabel('Number of principal components in regression')\n",
        "plt.ylabel('MSE')\n",
        "plt.title('Sales')\n",
        "plt.xlim(xmin=-1);"
      ],
      "execution_count": 28,
      "outputs": [
        {
          "output_type": "display_data",
          "data": {
            "image/png": "[encoded data removed]",
            "text/plain": [
              "<Figure size 432x288 with 1 Axes>"
            ]
          },
          "metadata": {
            "needs_background": "light"
          }
        }
      ]
    },
    {
      "cell_type": "code",
      "metadata": {
        "id": "0Jn6FKr9JZAg",
        "colab": {
          "base_uri": "https://localhost:8080/",
          "height": 0
        },
        "outputId": "179e1302-1d97-478c-b316-4f8edb394c63"
      },
      "source": [
        "pca2 = PCA()\n",
        "\n",
        "\n",
        "# Scale the data\n",
        "X_reduced_train = pca2.fit_transform(scale(X_train))\n",
        "n = len(X_reduced_train)\n",
        "\n",
        "# 10-fold CV, with shuffle\n",
        "kf_10 = KFold( n_splits=10, shuffle=True, random_state=1)\n",
        "\n",
        "mse = []\n",
        "\n",
        "# Calculate MSE with only the intercept (no principal components in regression)\n",
        "score = -1*cross_val_score(regr, np.ones((n,1)), y_train.ravel(), cv=kf_10, scoring='neg_mean_squared_error').mean()    \n",
        "mse.append(score)\n",
        "\n",
        "# Calculate MSE using CV for the 19 principle components, adding one component at the time.\n",
        "for i in np.arange(1, 11):\n",
        "    score = -1*cross_val_score(regr, X_reduced_train[:,:i], y_train.ravel(), cv=kf_10, scoring='neg_mean_squared_error').mean()\n",
        "    mse.append(score)\n",
        "\n",
        "plt.plot(np.array(mse), '-v')\n",
        "plt.xlabel('Number of principal components in regression')\n",
        "plt.ylabel('MSE')\n",
        "plt.title('Sales')\n",
        "plt.xlim(xmin=-1);"
      ],
      "execution_count": 29,
      "outputs": [
        {
          "output_type": "display_data",
          "data": {
            "image/png": "[encoded data removed]",
            "text/plain": [
              "<Figure size 432x288 with 1 Axes>"
            ]
          },
          "metadata": {
            "needs_background": "light"
          }
        }
      ]
    },
    {
      "cell_type": "code",
      "metadata": {
        "id": "BRqac8HZJeOs",
        "colab": {
          "base_uri": "https://localhost:8080/"
        },
        "outputId": "fe8d1255-c841-4af6-d477-5a8a7a71281f"
      },
      "source": [
        "#We find that the lowest cross-validation error occurs when $M = 10$\n",
        "#components are used. Now we'll see how it performs on the test data and compute the test MSE as follows:\n",
        "X_reduced_test = pca2.transform(scale(X_test))[:,:14]\n",
        "\n",
        "# Train regression model on training data \n",
        "regr = LinearRegression()\n",
        "regr.fit(X_reduced_train[:,:14], y_train)\n",
        "\n",
        "# Prediction with test data\n",
        "pred = regr.predict(X_reduced_test)\n",
        "print('PCR')\n",
        "print(\"R-squared: \" + str(np.sqrt(r2_score(y_test, pred))))\n",
        "print(\"RMSE: \" + str(np.sqrt(mean_squared_error(y_test, pred))))"
      ],
      "execution_count": 30,
      "outputs": [
        {
          "output_type": "stream",
          "name": "stdout",
          "text": [
            "PCR\n",
            "R-squared: 0.9040139422440419\n",
            "RMSE: 1.2313604992838267\n"
          ]
        }
      ]
    },
    {
      "cell_type": "markdown",
      "metadata": {
        "id": "1gt9RbOIa2NM"
      },
      "source": [
        "PCA is performing better than all previous models with 90% accuracy."
      ]
    },
    {
      "cell_type": "markdown",
      "metadata": {
        "id": "9AOyIlaPKQEX"
      },
      "source": [
        "#Partial Least Squares"
      ]
    },
    {
      "cell_type": "code",
      "metadata": {
        "id": "6bNIzI3nKHaE",
        "colab": {
          "base_uri": "https://localhost:8080/",
          "height": 0
        },
        "outputId": "b2bb5d14-3953-43a9-c79b-18be97790559"
      },
      "source": [
        "n = len(X_train)\n",
        "\n",
        "# 10-fold CV, with shuffle\n",
        "kf_10 = KFold(n_splits=10, shuffle=True, random_state=1)\n",
        "\n",
        "mse = []\n",
        "\n",
        "for i in np.arange(1, 15):\n",
        "    pls = PLSRegression(n_components=i)\n",
        "    score = cross_val_score(pls, scale(X_train), y_train, cv=kf_10, scoring='neg_mean_squared_error').mean()\n",
        "    mse.append(-score)\n",
        "\n",
        "# Plot results\n",
        "plt.plot(np.arange(1, 15), np.array(mse), '-v')\n",
        "plt.xlabel('Number of principal components in regression')\n",
        "plt.ylabel('MSE')\n",
        "plt.title('Sales')\n",
        "plt.xlim(xmin=-1)"
      ],
      "execution_count": 31,
      "outputs": [
        {
          "output_type": "execute_result",
          "data": {
            "text/plain": [
              "(-1.0, 14.65)"
            ]
          },
          "metadata": {},
          "execution_count": 31
        },
        {
          "output_type": "display_data",
          "data": {
            "image/png": "[encoded data removed]",
            "text/plain": [
              "<Figure size 432x288 with 1 Axes>"
            ]
          },
          "metadata": {
            "needs_background": "light"
          }
        }
      ]
    },
    {
      "cell_type": "code",
      "metadata": {
        "id": "-u6Xmvd_KWj9",
        "colab": {
          "base_uri": "https://localhost:8080/"
        },
        "outputId": "3692751a-fa6e-4552-8083-039f9c6e5d04"
      },
      "source": [
        "#:The lowest cross-validation error occurs when only $M = 5$ partial least\n",
        "#squares dimensions are used. We now evaluate the corresponding test set\n",
        "#MSE:\n",
        "pls = PLSRegression(n_components=5)\n",
        "pls.fit(scale(X_train), y_train)\n",
        "\n",
        "print('PLS')\n",
        "print(\"R-squared: \" + str(r2_score(y_test, pls.predict(scale(X_test)))))\n",
        "print(\"RMSE: \" + str(np.sqrt(mean_squared_error(y_test, pls.predict(scale(X_test))))))"
      ],
      "execution_count": 32,
      "outputs": [
        {
          "output_type": "stream",
          "name": "stdout",
          "text": [
            "PLS\n",
            "R-squared: 0.8182107168336687\n",
            "RMSE: 1.2280900611945285\n"
          ]
        }
      ]
    },
    {
      "cell_type": "markdown",
      "metadata": {
        "id": "l3Xr8a3peYGB"
      },
      "source": [
        "#Conclusion"
      ]
    },
    {
      "cell_type": "code",
      "metadata": {
        "id": "sgyrayuLbrxf",
        "colab": {
          "base_uri": "https://localhost:8080/"
        },
        "outputId": "3f2247b1-fbb9-4f64-94cd-02881e678a0d"
      },
      "source": [
        "#Linear regression\n",
        "print(\"Linear\")\n",
        "print(\"===============\")\n",
        "print(\"RMSE testing: \" +str(np.sqrt(mean_squared_error(y_test,pred_test_lr)))) \n",
        "print(\"R-squared testing: \" + str(r2_score(y_test, pred_test_lr)))\n",
        "#Ridge\n",
        "print(\"===============\")\n",
        "print(\"Ridge\")\n",
        "print(\"===============\")\n",
        "print(\"RMSE testing: \" + str(np.sqrt(mean_squared_error(y_test,pred_test_rr)))) \n",
        "print(\"R-squared testing: \" + str(r2_score(y_test, pred_test_rr))) \n",
        "#Ridge with paramter tuning\n",
        "print(\"===============\")\n",
        "print(\"Ridge Paramter tuning\")\n",
        "print(\"===============\")\n",
        "print(\"RMSE testing: \" + str(np.sqrt(mean_squared_error(y_test, ridge1.predict(X_test)))))\n",
        "print(\"R-squared testing: \" + str(r2_score(y_test, ridge1.predict(X_test))))\n",
        "#Lasso\n",
        "print(\"===============\")\n",
        "print(\"Lasso\")\n",
        "print(\"===============\")\n",
        "print(\"RMSE testing: \" + str(np.sqrt(mean_squared_error(y_test,pred_test_lasso))))\n",
        "print(\"R-squared testing: \" + str(r2_score(y_test, pred_test_lasso)))\n",
        "#Elastic Net\n",
        "print(\"===============\")\n",
        "print(\"Elastic Net\")\n",
        "print(\"===============\")\n",
        "print(\"RMSE testing: \" + str(np.sqrt(mean_squared_error(y_test,pred_test_enet))))\n",
        "print(\"R-squared testing: \" + str(r2_score(y_test, pred_test_enet)))\n",
        "#PCR\n",
        "print(\"===============\")\n",
        "print(\"PCR\")\n",
        "print(\"===============\")\n",
        "print(\"RMSE: \" + str(np.sqrt(mean_squared_error(y_test, pred))))\n",
        "print(\"R-squared: \" + str(np.sqrt(r2_score(y_test, pred))))\n",
        "\n",
        "#PLS\n",
        "print(\"===============\")\n",
        "print(\"PLS\")\n",
        "print(\"===============\")\n",
        "print(\"RMSE: \" + str(np.sqrt(mean_squared_error(y_test, pls.predict(scale(X_test))))))\n",
        "print(\"R-squared: \" + str(r2_score(y_test, pls.predict(scale(X_test)))))"
      ],
      "execution_count": 33,
      "outputs": [
        {
          "output_type": "stream",
          "name": "stdout",
          "text": [
            "Linear\n",
            "===============\n",
            "RMSE testing: 1.1078274030007706\n",
            "R-squared testing: 0.8520714327642556\n",
            "===============\n",
            "Ridge\n",
            "===============\n",
            "RMSE testing: 1.107336785156661\n",
            "R-squared testing: 0.8522024284839407\n",
            "===============\n",
            "Ridge Paramter tuning\n",
            "===============\n",
            "RMSE testing: 1.1064355014405582\n",
            "R-squared testing: 0.8524429214145827\n",
            "===============\n",
            "Lasso\n",
            "===============\n",
            "RMSE testing: 1.1793935496099688\n",
            "R-squared testing: 0.8323415911718595\n",
            "===============\n",
            "Elastic Net\n",
            "===============\n",
            "RMSE testing: 1.2414888598947038\n",
            "R-squared testing: 0.8142223360435816\n",
            "===============\n",
            "PCR\n",
            "===============\n",
            "RMSE: 1.2313604992838267\n",
            "R-squared: 0.9040139422440419\n",
            "===============\n",
            "PLS\n",
            "===============\n",
            "RMSE: 1.2280900611945285\n",
            "R-squared: 0.8182107168336687\n"
          ]
        }
      ]
    },
    {
      "cell_type": "code",
      "metadata": {
        "id": "mBVOk96c2grn",
        "colab": {
          "base_uri": "https://localhost:8080/"
        },
        "outputId": "6f51bc7d-331b-4832-baf7-002fda0d98aa"
      },
      "source": [
        "print(models_fwd.loc[5, \"model\"].summary())"
      ],
      "execution_count": 34,
      "outputs": [
        {
          "output_type": "stream",
          "name": "stdout",
          "text": [
            "                                 OLS Regression Results                                \n",
            "=======================================================================================\n",
            "Dep. Variable:                  Sales   R-squared (uncentered):                   0.969\n",
            "Model:                            OLS   Adj. R-squared (uncentered):              0.969\n",
            "Method:                 Least Squares   F-statistic:                              2491.\n",
            "Date:                Tue, 07 Dec 2021   Prob (F-statistic):                   4.22e-296\n",
            "Time:                        07:47:09   Log-Likelihood:                         -703.38\n",
            "No. Observations:                 400   AIC:                                      1417.\n",
            "Df Residuals:                     395   BIC:                                      1437.\n",
            "Df Model:                           5                                                  \n",
            "Covariance Type:            nonrobust                                                  \n",
            "====================================================================================\n",
            "                       coef    std err          t      P>|t|      [0.025      0.975]\n",
            "------------------------------------------------------------------------------------\n",
            "CompPrice            0.1223      0.004     34.141      0.000       0.115       0.129\n",
            "Price               -0.0935      0.004    -25.289      0.000      -0.101      -0.086\n",
            "ShelveLoc_Good       4.8935      0.210     23.353      0.000       4.482       5.305\n",
            "Advertising          0.1296      0.011     12.244      0.000       0.109       0.150\n",
            "ShelveLoc_Medium     1.9636      0.171     11.514      0.000       1.628       2.299\n",
            "==============================================================================\n",
            "Omnibus:                        2.683   Durbin-Watson:                   2.262\n",
            "Prob(Omnibus):                  0.261   Jarque-Bera (JB):                2.455\n",
            "Skew:                           0.182   Prob(JB):                        0.293\n",
            "Kurtosis:                       3.119   Cond. No.                         587.\n",
            "==============================================================================\n",
            "\n",
            "Warnings:\n",
            "[1] Standard Errors assume that the covariance matrix of the errors is correctly specified.\n"
          ]
        }
      ]
    },
    {
      "cell_type": "markdown",
      "metadata": {
        "id": "KT5-vT9x2lcx"
      },
      "source": [
        "After running all the models and comparing them choose PCR model with a 90.4% variance explanation.\n",
        "However using forward or backward selection to run OLS gives us a 96.9% variance explanation using 5 variable selection. Although overfitting probably comes into play here. "
      ]
    }
  ]
}